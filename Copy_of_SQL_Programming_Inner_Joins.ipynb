{
  "nbformat": 4,
  "nbformat_minor": 0,
  "metadata": {
    "colab": {
      "name": "Copy of SQL Programming - Inner Joins",
      "provenance": [],
      "collapsed_sections": [
        "ctxn0NRtBP_N",
        "NInIeBPRBUjy",
        "aC5B9W7MBxN2",
        "G5YSZtRrCQ2_"
      ]
    },
    "kernelspec": {
      "name": "python3",
      "display_name": "Python 3"
    }
  },
  "cells": [
    {
      "cell_type": "markdown",
      "metadata": {
        "id": "GMEtO1wzBhGc"
      },
      "source": [
        "<font color=\"green\">*To start working on this notebook, or any other notebook that we will use in the Moringa Data Science Course, we will need to save our own copy of it. We can do this by clicking File > Save a Copy in Drive. We will then be able to make edits to our own copy of this notebook.*</font>"
      ]
    },
    {
      "cell_type": "markdown",
      "metadata": {
        "id": "H6KrxhPuBI1j"
      },
      "source": [
        "# SQL Programming - Inner Joins"
      ]
    },
    {
      "cell_type": "markdown",
      "metadata": {
        "id": "ctxn0NRtBP_N"
      },
      "source": [
        "## 1.0 Lets connect to our Database"
      ]
    },
    {
      "cell_type": "code",
      "metadata": {
        "id": "3tISouHVFsEI",
        "outputId": "66985634-54e0-40b1-97b3-c48049b88c42",
        "colab": {
          "base_uri": "https://localhost:8080/",
          "height": 35
        }
      },
      "source": [
        "# We will first load the sql extension into our environment\n",
        "%load_ext sql\n",
        "\n",
        "# Then connect to our in memory sqlite database\n",
        "# NB: This database will cease to exist as soon as the database connection is closed. \n",
        "%sql sqlite://"
      ],
      "execution_count": 1,
      "outputs": [
        {
          "output_type": "execute_result",
          "data": {
            "application/vnd.google.colaboratory.intrinsic+json": {
              "type": "string"
            },
            "text/plain": [
              "'Connected: @None'"
            ]
          },
          "metadata": {
            "tags": []
          },
          "execution_count": 1
        }
      ]
    },
    {
      "cell_type": "code",
      "metadata": {
        "id": "5Wr95CMAGocI"
      },
      "source": [
        "# Importing Pandas\n",
        "import pandas as pd"
      ],
      "execution_count": 2,
      "outputs": []
    },
    {
      "cell_type": "markdown",
      "metadata": {
        "id": "NInIeBPRBUjy"
      },
      "source": [
        "## 1.1 Loading our Datasets"
      ]
    },
    {
      "cell_type": "markdown",
      "metadata": {
        "id": "0LrTLsUj2BEU"
      },
      "source": [
        "Datasets used in this notebook:\n",
        "\n",
        "\n",
        "1.   **Countries**\n",
        "\n",
        "> Dataset of European Countries. ([Dataset Download Link](https://drive.google.com/a/moringaschool.com/file/d/1Vz0URHRmUsG17fpzWa02RsCBI2TbPXeV/view?usp=sharing))\n",
        "\n",
        "2.   **Cities** \n",
        "\n",
        "> Dataset of European Cities. ([Dataset Download Link](https://drive.google.com/a/moringaschool.com/file/d/1-S8sact6Ae-A06wntUmBBlr5NH43VLY0/view?usp=sharing))\n",
        "\n",
        "\n",
        "\n",
        "\n"
      ]
    },
    {
      "cell_type": "code",
      "metadata": {
        "id": "V6dOOEhyAweA",
        "outputId": "376bf26f-eeb7-4adf-ccb1-d66dd44e873b",
        "colab": {
          "base_uri": "https://localhost:8080/",
          "height": 230
        }
      },
      "source": [
        "# Let's load our Countries dataset below\n",
        "# \n",
        "with open('world_countries.csv','r') as f:\n",
        "    Countries = pd.read_csv(f, index_col=0, encoding='utf-8')\n",
        "%sql DROP TABLE if EXISTS Countries;\n",
        "%sql PERSIST Countries;\n",
        "%sql SELECT * FROM Countries LIMIT 5;"
      ],
      "execution_count": 4,
      "outputs": [
        {
          "output_type": "stream",
          "text": [
            " * sqlite://\n",
            "Done.\n",
            " * sqlite://\n",
            " * sqlite://\n",
            "Done.\n"
          ],
          "name": "stdout"
        },
        {
          "output_type": "execute_result",
          "data": {
            "text/html": [
              "<table>\n",
              "    <tr>\n",
              "        <th>country</th>\n",
              "        <th>population</th>\n",
              "        <th>EU</th>\n",
              "        <th>coastline</th>\n",
              "    </tr>\n",
              "    <tr>\n",
              "        <td>Albania</td>\n",
              "        <td>2.9</td>\n",
              "        <td>no</td>\n",
              "        <td>yes</td>\n",
              "    </tr>\n",
              "    <tr>\n",
              "        <td>Andorra</td>\n",
              "        <td>0.07</td>\n",
              "        <td>no</td>\n",
              "        <td>no</td>\n",
              "    </tr>\n",
              "    <tr>\n",
              "        <td>Austria</td>\n",
              "        <td>8.57</td>\n",
              "        <td>yes</td>\n",
              "        <td>no</td>\n",
              "    </tr>\n",
              "    <tr>\n",
              "        <td>Belarus</td>\n",
              "        <td>9.48</td>\n",
              "        <td>no</td>\n",
              "        <td>no</td>\n",
              "    </tr>\n",
              "    <tr>\n",
              "        <td>Belgium</td>\n",
              "        <td>11.37</td>\n",
              "        <td>yes</td>\n",
              "        <td>yes</td>\n",
              "    </tr>\n",
              "</table>"
            ],
            "text/plain": [
              "[('Albania', 2.9, 'no', 'yes'),\n",
              " ('Andorra', 0.07, 'no', 'no'),\n",
              " ('Austria', 8.57, 'yes', 'no'),\n",
              " ('Belarus', 9.48, 'no', 'no'),\n",
              " ('Belgium', 11.37, 'yes', 'yes')]"
            ]
          },
          "metadata": {
            "tags": []
          },
          "execution_count": 4
        }
      ]
    },
    {
      "cell_type": "code",
      "metadata": {
        "id": "RYXnHNRnA1hP",
        "outputId": "43190921-8c76-4240-c500-edbd3d2b5578",
        "colab": {
          "base_uri": "https://localhost:8080/",
          "height": 230
        }
      },
      "source": [
        "# Let's load our Cities dataset below\n",
        "#\n",
        "with open('world_cities.csv','r') as f:\n",
        "    Cities = pd.read_csv(f, index_col=0, encoding='utf-8')\n",
        "%sql DROP TABLE if EXISTS Cities;\n",
        "%sql PERSIST Cities;\n",
        "%sql SELECT * FROM Cities LIMIT 5;"
      ],
      "execution_count": 6,
      "outputs": [
        {
          "output_type": "stream",
          "text": [
            " * sqlite://\n",
            "Done.\n",
            " * sqlite://\n",
            " * sqlite://\n",
            "Done.\n"
          ],
          "name": "stdout"
        },
        {
          "output_type": "execute_result",
          "data": {
            "text/html": [
              "<table>\n",
              "    <tr>\n",
              "        <th>city</th>\n",
              "        <th>country</th>\n",
              "        <th>latitude</th>\n",
              "        <th>longitude</th>\n",
              "        <th>temperature</th>\n",
              "    </tr>\n",
              "    <tr>\n",
              "        <td>Aalborg</td>\n",
              "        <td>Denmark</td>\n",
              "        <td>57.03</td>\n",
              "        <td>9.92</td>\n",
              "        <td>7.52</td>\n",
              "    </tr>\n",
              "    <tr>\n",
              "        <td>Aberdeen</td>\n",
              "        <td>United Kingdom</td>\n",
              "        <td>57.17</td>\n",
              "        <td>-2.08</td>\n",
              "        <td>8.1</td>\n",
              "    </tr>\n",
              "    <tr>\n",
              "        <td>Abisko</td>\n",
              "        <td>Sweden</td>\n",
              "        <td>63.35</td>\n",
              "        <td>18.83</td>\n",
              "        <td>0.2</td>\n",
              "    </tr>\n",
              "    <tr>\n",
              "        <td>Adana</td>\n",
              "        <td>Turkey</td>\n",
              "        <td>36.99</td>\n",
              "        <td>35.32</td>\n",
              "        <td>18.67</td>\n",
              "    </tr>\n",
              "    <tr>\n",
              "        <td>Albacete</td>\n",
              "        <td>Spain</td>\n",
              "        <td>39.0</td>\n",
              "        <td>-1.87</td>\n",
              "        <td>12.62</td>\n",
              "    </tr>\n",
              "</table>"
            ],
            "text/plain": [
              "[('Aalborg', 'Denmark', 57.03, 9.92, 7.52),\n",
              " ('Aberdeen', 'United Kingdom', 57.17, -2.08, 8.1),\n",
              " ('Abisko', 'Sweden', 63.35, 18.83, 0.2),\n",
              " ('Adana', 'Turkey', 36.99, 35.32, 18.67),\n",
              " ('Albacete', 'Spain', 39.0, -1.87, 12.62)]"
            ]
          },
          "metadata": {
            "tags": []
          },
          "execution_count": 6
        }
      ]
    },
    {
      "cell_type": "markdown",
      "metadata": {
        "id": "aC5B9W7MBxN2"
      },
      "source": [
        "## 1.2 Getting Started"
      ]
    },
    {
      "cell_type": "markdown",
      "metadata": {
        "id": "0sZIvColA9NC"
      },
      "source": [
        "Let's try to learn from the given example below, then apply our learnings to the given challenges using the **`INNER JOIN`** statement;"
      ]
    },
    {
      "cell_type": "code",
      "metadata": {
        "id": "EhwHqiCxCQUu",
        "outputId": "4890d029-b67f-45eb-f937-93ca062671db",
        "colab": {
          "base_uri": "https://localhost:8080/",
          "height": 284
        }
      },
      "source": [
        "# Example 1 \n",
        "# First let's look at the syntax code for the inner join statement\n",
        "# \n",
        "# SELECT <Column names>\n",
        "# FROM table1 INNER JOIN table2\n",
        "# ON table1.column_name = table2.column_name\n",
        "# \n",
        "# On the first line, we select the columns from which we want to join. This columns can be from both tables.\n",
        "# On the second line, we explicitly declare the tables we are joining.\n",
        "# on the third line, we give the search condition. Remember, for us to be able to do inner join or any type of join, there must be a column that is a match in both tables. \n",
        "# So the search condition simply tells SQL the column that is the same in both tables\n",
        "\n",
        "\n",
        "# Let's find all the cities with latitude < 50 in a country with population < 5; \n",
        "# and return the city, country, and population, sorted by country\n",
        "# \n",
        "%%sql\n",
        "SELECT city, Cities.country, population\n",
        "FROM Cities INNER JOIN Countries\n",
        "     ON Cities.country = Countries.country\n",
        "WHERE latitude < 50 AND population < 5\n",
        "ORDER BY Cities.country"
      ],
      "execution_count": 7,
      "outputs": [
        {
          "output_type": "stream",
          "text": [
            " * sqlite://\n",
            "Done.\n"
          ],
          "name": "stdout"
        },
        {
          "output_type": "execute_result",
          "data": {
            "text/html": [
              "<table>\n",
              "    <tr>\n",
              "        <th>city</th>\n",
              "        <th>country</th>\n",
              "        <th>population</th>\n",
              "    </tr>\n",
              "    <tr>\n",
              "        <td>Elbasan</td>\n",
              "        <td>Albania</td>\n",
              "        <td>2.9</td>\n",
              "    </tr>\n",
              "    <tr>\n",
              "        <td>Andorra</td>\n",
              "        <td>Andorra</td>\n",
              "        <td>0.07</td>\n",
              "    </tr>\n",
              "    <tr>\n",
              "        <td>Sarajevo</td>\n",
              "        <td>Bosnia and Herzegovina</td>\n",
              "        <td>3.8</td>\n",
              "    </tr>\n",
              "    <tr>\n",
              "        <td>Rijeka</td>\n",
              "        <td>Croatia</td>\n",
              "        <td>4.23</td>\n",
              "    </tr>\n",
              "    <tr>\n",
              "        <td>Split</td>\n",
              "        <td>Croatia</td>\n",
              "        <td>4.23</td>\n",
              "    </tr>\n",
              "    <tr>\n",
              "        <td>Skopje</td>\n",
              "        <td>Macedonia</td>\n",
              "        <td>2.08</td>\n",
              "    </tr>\n",
              "    <tr>\n",
              "        <td>Balti</td>\n",
              "        <td>Moldova</td>\n",
              "        <td>4.06</td>\n",
              "    </tr>\n",
              "    <tr>\n",
              "        <td>Chisinau</td>\n",
              "        <td>Moldova</td>\n",
              "        <td>4.06</td>\n",
              "    </tr>\n",
              "    <tr>\n",
              "        <td>Podgorica</td>\n",
              "        <td>Montenegro</td>\n",
              "        <td>0.63</td>\n",
              "    </tr>\n",
              "    <tr>\n",
              "        <td>Ljubljana</td>\n",
              "        <td>Slovenia</td>\n",
              "        <td>2.07</td>\n",
              "    </tr>\n",
              "</table>"
            ],
            "text/plain": [
              "[('Elbasan', 'Albania', 2.9),\n",
              " ('Andorra', 'Andorra', 0.07),\n",
              " ('Sarajevo', 'Bosnia and Herzegovina', 3.8),\n",
              " ('Rijeka', 'Croatia', 4.23),\n",
              " ('Split', 'Croatia', 4.23),\n",
              " ('Skopje', 'Macedonia', 2.08),\n",
              " ('Balti', 'Moldova', 4.06),\n",
              " ('Chisinau', 'Moldova', 4.06),\n",
              " ('Podgorica', 'Montenegro', 0.63),\n",
              " ('Ljubljana', 'Slovenia', 2.07)]"
            ]
          },
          "metadata": {
            "tags": []
          },
          "execution_count": 7
        }
      ]
    },
    {
      "cell_type": "markdown",
      "metadata": {
        "id": "G5YSZtRrCQ2_"
      },
      "source": [
        "### <font color=\"green\">1.2 Challenges</font>"
      ]
    },
    {
      "cell_type": "code",
      "metadata": {
        "id": "0cy1E0ghCP0K",
        "outputId": "d35743c1-3485-45b4-c74c-d8208dc2c892",
        "colab": {
          "base_uri": "https://localhost:8080/",
          "height": 95
        }
      },
      "source": [
        "# Challenge 1\n",
        "# Let's find a city with temperature > 10 that belongs to the EU and doesn't have a coastline, \n",
        "# returning the city, coastline and ordered by temperature\n",
        "# \n",
        "%%sql\n",
        "Select city, temperature, EU, coastline\n",
        "from Cities inner join Countries\n",
        "on Cities.country = Countries.country\n",
        "Where temperature > 10 and EU = 'yes' and coastline = 'no'\n",
        "Order by temperature ASC;"
      ],
      "execution_count": 10,
      "outputs": [
        {
          "output_type": "stream",
          "text": [
            " * sqlite://\n",
            "Done.\n"
          ],
          "name": "stdout"
        },
        {
          "output_type": "execute_result",
          "data": {
            "text/html": [
              "<table>\n",
              "    <tr>\n",
              "        <th>city</th>\n",
              "        <th>temperature</th>\n",
              "        <th>EU</th>\n",
              "        <th>coastline</th>\n",
              "    </tr>\n",
              "    <tr>\n",
              "        <td>Szeged</td>\n",
              "        <td>10.34</td>\n",
              "        <td>yes</td>\n",
              "        <td>no</td>\n",
              "    </tr>\n",
              "</table>"
            ],
            "text/plain": [
              "[('Szeged', 10.34, 'yes', 'no')]"
            ]
          },
          "metadata": {
            "tags": []
          },
          "execution_count": 10
        }
      ]
    },
    {
      "cell_type": "code",
      "metadata": {
        "id": "vovDcZBACPsi",
        "outputId": "09d08e70-2942-4e45-bc59-cc068aa9b31f",
        "colab": {
          "base_uri": "https://localhost:8080/",
          "height": 347
        }
      },
      "source": [
        "# Challenge 2\n",
        "# Let's find all cities with latitude > 45 in a country with no coastline and with population > 9,\n",
        "# returning the city, country, latitude, and whether it's in the EU.\n",
        "#\n",
        "%%sql\n",
        "Select city, Cities.country, latitude, EU\n",
        "from Cities inner join Countries\n",
        "    ON Cities.country = Countries.country\n",
        "Where latitude > 45 and coastline = 'no' and population > 9;"
      ],
      "execution_count": 12,
      "outputs": [
        {
          "output_type": "stream",
          "text": [
            " * sqlite://\n",
            "Done.\n"
          ],
          "name": "stdout"
        },
        {
          "output_type": "execute_result",
          "data": {
            "text/html": [
              "<table>\n",
              "    <tr>\n",
              "        <th>city</th>\n",
              "        <th>country</th>\n",
              "        <th>latitude</th>\n",
              "        <th>EU</th>\n",
              "    </tr>\n",
              "    <tr>\n",
              "        <td>Brest</td>\n",
              "        <td>Belarus</td>\n",
              "        <td>52.1</td>\n",
              "        <td>no</td>\n",
              "    </tr>\n",
              "    <tr>\n",
              "        <td>Brno</td>\n",
              "        <td>Czech Republic</td>\n",
              "        <td>49.2</td>\n",
              "        <td>yes</td>\n",
              "    </tr>\n",
              "    <tr>\n",
              "        <td>Budapest</td>\n",
              "        <td>Hungary</td>\n",
              "        <td>47.5</td>\n",
              "        <td>yes</td>\n",
              "    </tr>\n",
              "    <tr>\n",
              "        <td>Debrecen</td>\n",
              "        <td>Hungary</td>\n",
              "        <td>47.53</td>\n",
              "        <td>yes</td>\n",
              "    </tr>\n",
              "    <tr>\n",
              "        <td>Gyor</td>\n",
              "        <td>Hungary</td>\n",
              "        <td>47.7</td>\n",
              "        <td>yes</td>\n",
              "    </tr>\n",
              "    <tr>\n",
              "        <td>Hrodna</td>\n",
              "        <td>Belarus</td>\n",
              "        <td>53.68</td>\n",
              "        <td>no</td>\n",
              "    </tr>\n",
              "    <tr>\n",
              "        <td>Mazyr</td>\n",
              "        <td>Belarus</td>\n",
              "        <td>52.05</td>\n",
              "        <td>no</td>\n",
              "    </tr>\n",
              "    <tr>\n",
              "        <td>Minsk</td>\n",
              "        <td>Belarus</td>\n",
              "        <td>53.9</td>\n",
              "        <td>no</td>\n",
              "    </tr>\n",
              "    <tr>\n",
              "        <td>Orsha</td>\n",
              "        <td>Belarus</td>\n",
              "        <td>54.52</td>\n",
              "        <td>no</td>\n",
              "    </tr>\n",
              "    <tr>\n",
              "        <td>Ostrava</td>\n",
              "        <td>Czech Republic</td>\n",
              "        <td>49.83</td>\n",
              "        <td>yes</td>\n",
              "    </tr>\n",
              "    <tr>\n",
              "        <td>Pinsk</td>\n",
              "        <td>Belarus</td>\n",
              "        <td>52.13</td>\n",
              "        <td>no</td>\n",
              "    </tr>\n",
              "    <tr>\n",
              "        <td>Prague</td>\n",
              "        <td>Czech Republic</td>\n",
              "        <td>50.08</td>\n",
              "        <td>yes</td>\n",
              "    </tr>\n",
              "    <tr>\n",
              "        <td>Szeged</td>\n",
              "        <td>Hungary</td>\n",
              "        <td>46.25</td>\n",
              "        <td>yes</td>\n",
              "    </tr>\n",
              "</table>"
            ],
            "text/plain": [
              "[('Brest', 'Belarus', 52.1, 'no'),\n",
              " ('Brno', 'Czech Republic', 49.2, 'yes'),\n",
              " ('Budapest', 'Hungary', 47.5, 'yes'),\n",
              " ('Debrecen', 'Hungary', 47.53, 'yes'),\n",
              " ('Gyor', 'Hungary', 47.7, 'yes'),\n",
              " ('Hrodna', 'Belarus', 53.68, 'no'),\n",
              " ('Mazyr', 'Belarus', 52.05, 'no'),\n",
              " ('Minsk', 'Belarus', 53.9, 'no'),\n",
              " ('Orsha', 'Belarus', 54.52, 'no'),\n",
              " ('Ostrava', 'Czech Republic', 49.83, 'yes'),\n",
              " ('Pinsk', 'Belarus', 52.13, 'no'),\n",
              " ('Prague', 'Czech Republic', 50.08, 'yes'),\n",
              " ('Szeged', 'Hungary', 46.25, 'yes')]"
            ]
          },
          "metadata": {
            "tags": []
          },
          "execution_count": 12
        }
      ]
    },
    {
      "cell_type": "code",
      "metadata": {
        "id": "n5KCLKwLCPlJ",
        "outputId": "a5cb3b28-65aa-494d-909f-719673dcf142",
        "colab": {
          "base_uri": "https://localhost:8080/",
          "height": 95
        }
      },
      "source": [
        "# Challenge 3\n",
        "# Let's find the average temperature of non-european cities with a latitude > 45\n",
        "# \n",
        "%%sql\n",
        "Select avg(temperature)\n",
        "from Cities inner join Countries\n",
        "    On Cities.country = Countries.country\n",
        "Where EU = 'no' and latitude > 45;"
      ],
      "execution_count": 15,
      "outputs": [
        {
          "output_type": "stream",
          "text": [
            " * sqlite://\n",
            "Done.\n"
          ],
          "name": "stdout"
        },
        {
          "output_type": "execute_result",
          "data": {
            "text/html": [
              "<table>\n",
              "    <tr>\n",
              "        <th>avg(temperature)</th>\n",
              "    </tr>\n",
              "    <tr>\n",
              "        <td>6.704375</td>\n",
              "    </tr>\n",
              "</table>"
            ],
            "text/plain": [
              "[(6.704375,)]"
            ]
          },
          "metadata": {
            "tags": []
          },
          "execution_count": 15
        }
      ]
    },
    {
      "cell_type": "code",
      "metadata": {
        "id": "qjyFMunjFUql",
        "outputId": "08f10f6c-f526-4673-f09e-27b9e694687f",
        "colab": {
          "base_uri": "https://localhost:8080/",
          "height": 95
        }
      },
      "source": [
        "# Challenge 4 \n",
        "# Let's find minimum and maxiumum temperature of european cities with latitude > 45\n",
        "# \n",
        "%%sql\n",
        "Select min(temperature), max(temperature)\n",
        "from Cities inner join Countries\n",
        "    On Cities.country = Countries.country\n",
        "Where EU = 'yes' and latitude > 45;"
      ],
      "execution_count": 16,
      "outputs": [
        {
          "output_type": "stream",
          "text": [
            " * sqlite://\n",
            "Done.\n"
          ],
          "name": "stdout"
        },
        {
          "output_type": "execute_result",
          "data": {
            "text/html": [
              "<table>\n",
              "    <tr>\n",
              "        <th>min(temperature)</th>\n",
              "        <th>max(temperature)</th>\n",
              "    </tr>\n",
              "    <tr>\n",
              "        <td>-2.2</td>\n",
              "        <td>11.21</td>\n",
              "    </tr>\n",
              "</table>"
            ],
            "text/plain": [
              "[(-2.2, 11.21)]"
            ]
          },
          "metadata": {
            "tags": []
          },
          "execution_count": 16
        }
      ]
    },
    {
      "cell_type": "code",
      "metadata": {
        "id": "G62GzfLrFsr9",
        "outputId": "f649beb4-3f50-4f9f-8f98-4b35a1c36159",
        "colab": {
          "base_uri": "https://localhost:8080/",
          "height": 95
        }
      },
      "source": [
        "# Challenge 5\n",
        "# Let's find the number of european cities with a latitude > 45\n",
        "# \n",
        "%%sql\n",
        "Select count(city) \"Number of EU Cities\"\n",
        "from Cities inner join Countries\n",
        "    On Cities.country = Countries.country\n",
        "Where EU = 'yes' and latitude > 45"
      ],
      "execution_count": 17,
      "outputs": [
        {
          "output_type": "stream",
          "text": [
            " * sqlite://\n",
            "Done.\n"
          ],
          "name": "stdout"
        },
        {
          "output_type": "execute_result",
          "data": {
            "text/html": [
              "<table>\n",
              "    <tr>\n",
              "        <th>Number of EU Cities</th>\n",
              "    </tr>\n",
              "    <tr>\n",
              "        <td>99</td>\n",
              "    </tr>\n",
              "</table>"
            ],
            "text/plain": [
              "[(99,)]"
            ]
          },
          "metadata": {
            "tags": []
          },
          "execution_count": 17
        }
      ]
    },
    {
      "cell_type": "code",
      "metadata": {
        "id": "TauKr2s3Ib-A",
        "outputId": "d1ee2804-c4ff-4d7e-a5d2-6cc19eea6b57",
        "colab": {
          "base_uri": "https://localhost:8080/",
          "height": 1000
        }
      },
      "source": [
        "# Challenge 6\n",
        "# Which european cities belong to a country with a coastline?\n",
        "# \n",
        "%%sql\n",
        "Select city\n",
        "from Cities inner join Countries\n",
        "    On Cities.country = Countries.country\n",
        "Where EU = 'yes' and coastline = 'yes';"
      ],
      "execution_count": 18,
      "outputs": [
        {
          "output_type": "stream",
          "text": [
            " * sqlite://\n",
            "Done.\n"
          ],
          "name": "stdout"
        },
        {
          "output_type": "execute_result",
          "data": {
            "text/html": [
              "<table>\n",
              "    <tr>\n",
              "        <th>city</th>\n",
              "    </tr>\n",
              "    <tr>\n",
              "        <td>Aalborg</td>\n",
              "    </tr>\n",
              "    <tr>\n",
              "        <td>Aberdeen</td>\n",
              "    </tr>\n",
              "    <tr>\n",
              "        <td>Abisko</td>\n",
              "    </tr>\n",
              "    <tr>\n",
              "        <td>Albacete</td>\n",
              "    </tr>\n",
              "    <tr>\n",
              "        <td>Algeciras</td>\n",
              "    </tr>\n",
              "    <tr>\n",
              "        <td>Amiens</td>\n",
              "    </tr>\n",
              "    <tr>\n",
              "        <td>Amsterdam</td>\n",
              "    </tr>\n",
              "    <tr>\n",
              "        <td>Ancona</td>\n",
              "    </tr>\n",
              "    <tr>\n",
              "        <td>Angers</td>\n",
              "    </tr>\n",
              "    <tr>\n",
              "        <td>Arad</td>\n",
              "    </tr>\n",
              "    <tr>\n",
              "        <td>Athens</td>\n",
              "    </tr>\n",
              "    <tr>\n",
              "        <td>Augsburg</td>\n",
              "    </tr>\n",
              "    <tr>\n",
              "        <td>Bacau</td>\n",
              "    </tr>\n",
              "    <tr>\n",
              "        <td>Badajoz</td>\n",
              "    </tr>\n",
              "    <tr>\n",
              "        <td>Baia Mare</td>\n",
              "    </tr>\n",
              "    <tr>\n",
              "        <td>Barcelona</td>\n",
              "    </tr>\n",
              "    <tr>\n",
              "        <td>Bari</td>\n",
              "    </tr>\n",
              "    <tr>\n",
              "        <td>Belfast</td>\n",
              "    </tr>\n",
              "    <tr>\n",
              "        <td>Bergamo</td>\n",
              "    </tr>\n",
              "    <tr>\n",
              "        <td>Berlin</td>\n",
              "    </tr>\n",
              "    <tr>\n",
              "        <td>Bialystok</td>\n",
              "    </tr>\n",
              "    <tr>\n",
              "        <td>Bielefeld</td>\n",
              "    </tr>\n",
              "    <tr>\n",
              "        <td>Bilbao</td>\n",
              "    </tr>\n",
              "    <tr>\n",
              "        <td>Birmingham</td>\n",
              "    </tr>\n",
              "    <tr>\n",
              "        <td>Blackpool</td>\n",
              "    </tr>\n",
              "    <tr>\n",
              "        <td>Bologna</td>\n",
              "    </tr>\n",
              "    <tr>\n",
              "        <td>Bonn</td>\n",
              "    </tr>\n",
              "    <tr>\n",
              "        <td>Bordeaux</td>\n",
              "    </tr>\n",
              "    <tr>\n",
              "        <td>Botosani</td>\n",
              "    </tr>\n",
              "    <tr>\n",
              "        <td>Bournemouth</td>\n",
              "    </tr>\n",
              "    <tr>\n",
              "        <td>Bradford</td>\n",
              "    </tr>\n",
              "    <tr>\n",
              "        <td>Braga</td>\n",
              "    </tr>\n",
              "    <tr>\n",
              "        <td>Braila</td>\n",
              "    </tr>\n",
              "    <tr>\n",
              "        <td>Bremen</td>\n",
              "    </tr>\n",
              "    <tr>\n",
              "        <td>Brest</td>\n",
              "    </tr>\n",
              "    <tr>\n",
              "        <td>Brugge</td>\n",
              "    </tr>\n",
              "    <tr>\n",
              "        <td>Bucharest</td>\n",
              "    </tr>\n",
              "    <tr>\n",
              "        <td>Burgas</td>\n",
              "    </tr>\n",
              "    <tr>\n",
              "        <td>Burgos</td>\n",
              "    </tr>\n",
              "    <tr>\n",
              "        <td>Bydgoszcz</td>\n",
              "    </tr>\n",
              "    <tr>\n",
              "        <td>Bytom</td>\n",
              "    </tr>\n",
              "    <tr>\n",
              "        <td>Caen</td>\n",
              "    </tr>\n",
              "    <tr>\n",
              "        <td>Cambridge</td>\n",
              "    </tr>\n",
              "    <tr>\n",
              "        <td>Cartagena</td>\n",
              "    </tr>\n",
              "    <tr>\n",
              "        <td>Catania</td>\n",
              "    </tr>\n",
              "    <tr>\n",
              "        <td>Chemnitz</td>\n",
              "    </tr>\n",
              "    <tr>\n",
              "        <td>Constanta</td>\n",
              "    </tr>\n",
              "    <tr>\n",
              "        <td>Cork</td>\n",
              "    </tr>\n",
              "    <tr>\n",
              "        <td>Cosenza</td>\n",
              "    </tr>\n",
              "    <tr>\n",
              "        <td>Craiova</td>\n",
              "    </tr>\n",
              "    <tr>\n",
              "        <td>Daugavpils</td>\n",
              "    </tr>\n",
              "    <tr>\n",
              "        <td>Dijon</td>\n",
              "    </tr>\n",
              "    <tr>\n",
              "        <td>Dublin</td>\n",
              "    </tr>\n",
              "    <tr>\n",
              "        <td>Dundee</td>\n",
              "    </tr>\n",
              "    <tr>\n",
              "        <td>Edinburgh</td>\n",
              "    </tr>\n",
              "    <tr>\n",
              "        <td>Elblag</td>\n",
              "    </tr>\n",
              "    <tr>\n",
              "        <td>Erfurt</td>\n",
              "    </tr>\n",
              "    <tr>\n",
              "        <td>Exeter</td>\n",
              "    </tr>\n",
              "    <tr>\n",
              "        <td>Foggia</td>\n",
              "    </tr>\n",
              "    <tr>\n",
              "        <td>Frankfurt</td>\n",
              "    </tr>\n",
              "    <tr>\n",
              "        <td>Freiburg</td>\n",
              "    </tr>\n",
              "    <tr>\n",
              "        <td>Galway</td>\n",
              "    </tr>\n",
              "    <tr>\n",
              "        <td>Genoa</td>\n",
              "    </tr>\n",
              "    <tr>\n",
              "        <td>Glasgow</td>\n",
              "    </tr>\n",
              "    <tr>\n",
              "        <td>Göteborg</td>\n",
              "    </tr>\n",
              "    <tr>\n",
              "        <td>Granada</td>\n",
              "    </tr>\n",
              "    <tr>\n",
              "        <td>Grenoble</td>\n",
              "    </tr>\n",
              "    <tr>\n",
              "        <td>Groningen</td>\n",
              "    </tr>\n",
              "    <tr>\n",
              "        <td>Heidelberg</td>\n",
              "    </tr>\n",
              "    <tr>\n",
              "        <td>Helsinki</td>\n",
              "    </tr>\n",
              "    <tr>\n",
              "        <td>Huelva</td>\n",
              "    </tr>\n",
              "    <tr>\n",
              "        <td>Ingolstadt</td>\n",
              "    </tr>\n",
              "    <tr>\n",
              "        <td>Inverness</td>\n",
              "    </tr>\n",
              "    <tr>\n",
              "        <td>Kalamata</td>\n",
              "    </tr>\n",
              "    <tr>\n",
              "        <td>Karlsruhe</td>\n",
              "    </tr>\n",
              "    <tr>\n",
              "        <td>Kaunas</td>\n",
              "    </tr>\n",
              "    <tr>\n",
              "        <td>Kielce</td>\n",
              "    </tr>\n",
              "    <tr>\n",
              "        <td>Kiruna</td>\n",
              "    </tr>\n",
              "    <tr>\n",
              "        <td>Klaipeda</td>\n",
              "    </tr>\n",
              "    <tr>\n",
              "        <td>Koszalin</td>\n",
              "    </tr>\n",
              "    <tr>\n",
              "        <td>Le Mans</td>\n",
              "    </tr>\n",
              "    <tr>\n",
              "        <td>Lille</td>\n",
              "    </tr>\n",
              "    <tr>\n",
              "        <td>Limoges</td>\n",
              "    </tr>\n",
              "    <tr>\n",
              "        <td>Lisbon</td>\n",
              "    </tr>\n",
              "    <tr>\n",
              "        <td>Ljubljana</td>\n",
              "    </tr>\n",
              "    <tr>\n",
              "        <td>Maastricht</td>\n",
              "    </tr>\n",
              "    <tr>\n",
              "        <td>Madrid</td>\n",
              "    </tr>\n",
              "    <tr>\n",
              "        <td>Magdeburg</td>\n",
              "    </tr>\n",
              "    <tr>\n",
              "        <td>Malmö</td>\n",
              "    </tr>\n",
              "    <tr>\n",
              "        <td>Marbella</td>\n",
              "    </tr>\n",
              "    <tr>\n",
              "        <td>Marseille</td>\n",
              "    </tr>\n",
              "    <tr>\n",
              "        <td>Messina</td>\n",
              "    </tr>\n",
              "    <tr>\n",
              "        <td>Metz</td>\n",
              "    </tr>\n",
              "    <tr>\n",
              "        <td>Milan</td>\n",
              "    </tr>\n",
              "    <tr>\n",
              "        <td>Montpellier</td>\n",
              "    </tr>\n",
              "    <tr>\n",
              "        <td>Mulhouse</td>\n",
              "    </tr>\n",
              "    <tr>\n",
              "        <td>Murcia</td>\n",
              "    </tr>\n",
              "    <tr>\n",
              "        <td>Nice</td>\n",
              "    </tr>\n",
              "    <tr>\n",
              "        <td>Odense</td>\n",
              "    </tr>\n",
              "    <tr>\n",
              "        <td>Oulu</td>\n",
              "    </tr>\n",
              "    <tr>\n",
              "        <td>Oviedo</td>\n",
              "    </tr>\n",
              "    <tr>\n",
              "        <td>Palermo</td>\n",
              "    </tr>\n",
              "    <tr>\n",
              "        <td>Patras</td>\n",
              "    </tr>\n",
              "    <tr>\n",
              "        <td>Perpignan</td>\n",
              "    </tr>\n",
              "    <tr>\n",
              "        <td>Perugia</td>\n",
              "    </tr>\n",
              "    <tr>\n",
              "        <td>Pescara</td>\n",
              "    </tr>\n",
              "    <tr>\n",
              "        <td>Pleven</td>\n",
              "    </tr>\n",
              "    <tr>\n",
              "        <td>Plovdiv</td>\n",
              "    </tr>\n",
              "    <tr>\n",
              "        <td>Poznan</td>\n",
              "    </tr>\n",
              "    <tr>\n",
              "        <td>Reims</td>\n",
              "    </tr>\n",
              "    <tr>\n",
              "        <td>Riga</td>\n",
              "    </tr>\n",
              "    <tr>\n",
              "        <td>Rijeka</td>\n",
              "    </tr>\n",
              "    <tr>\n",
              "        <td>Rome</td>\n",
              "    </tr>\n",
              "    <tr>\n",
              "        <td>Rostock</td>\n",
              "    </tr>\n",
              "    <tr>\n",
              "        <td>Ruse</td>\n",
              "    </tr>\n",
              "    <tr>\n",
              "        <td>Salamanca</td>\n",
              "    </tr>\n",
              "    <tr>\n",
              "        <td>Santander</td>\n",
              "    </tr>\n",
              "    <tr>\n",
              "        <td>Sibiu</td>\n",
              "    </tr>\n",
              "    <tr>\n",
              "        <td>Split</td>\n",
              "    </tr>\n",
              "    <tr>\n",
              "        <td>Stara Zagora</td>\n",
              "    </tr>\n",
              "    <tr>\n",
              "        <td>Stockholm</td>\n",
              "    </tr>\n",
              "    <tr>\n",
              "        <td>Swansea</td>\n",
              "    </tr>\n",
              "    <tr>\n",
              "        <td>Tallinn</td>\n",
              "    </tr>\n",
              "    <tr>\n",
              "        <td>Tampere</td>\n",
              "    </tr>\n",
              "    <tr>\n",
              "        <td>Tartu</td>\n",
              "    </tr>\n",
              "    <tr>\n",
              "        <td>Toulouse</td>\n",
              "    </tr>\n",
              "    <tr>\n",
              "        <td>Trieste</td>\n",
              "    </tr>\n",
              "    <tr>\n",
              "        <td>Trikala</td>\n",
              "    </tr>\n",
              "    <tr>\n",
              "        <td>Turku</td>\n",
              "    </tr>\n",
              "    <tr>\n",
              "        <td>Uppsala</td>\n",
              "    </tr>\n",
              "    <tr>\n",
              "        <td>Valencia</td>\n",
              "    </tr>\n",
              "    <tr>\n",
              "        <td>Vigo</td>\n",
              "    </tr>\n",
              "    <tr>\n",
              "        <td>Vilnius</td>\n",
              "    </tr>\n",
              "    <tr>\n",
              "        <td>Warsaw</td>\n",
              "    </tr>\n",
              "    <tr>\n",
              "        <td>Wroclaw</td>\n",
              "    </tr>\n",
              "    <tr>\n",
              "        <td>Zaragoza</td>\n",
              "    </tr>\n",
              "</table>"
            ],
            "text/plain": [
              "[('Aalborg',),\n",
              " ('Aberdeen',),\n",
              " ('Abisko',),\n",
              " ('Albacete',),\n",
              " ('Algeciras',),\n",
              " ('Amiens',),\n",
              " ('Amsterdam',),\n",
              " ('Ancona',),\n",
              " ('Angers',),\n",
              " ('Arad',),\n",
              " ('Athens',),\n",
              " ('Augsburg',),\n",
              " ('Bacau',),\n",
              " ('Badajoz',),\n",
              " ('Baia Mare',),\n",
              " ('Barcelona',),\n",
              " ('Bari',),\n",
              " ('Belfast',),\n",
              " ('Bergamo',),\n",
              " ('Berlin',),\n",
              " ('Bialystok',),\n",
              " ('Bielefeld',),\n",
              " ('Bilbao',),\n",
              " ('Birmingham',),\n",
              " ('Blackpool',),\n",
              " ('Bologna',),\n",
              " ('Bonn',),\n",
              " ('Bordeaux',),\n",
              " ('Botosani',),\n",
              " ('Bournemouth',),\n",
              " ('Bradford',),\n",
              " ('Braga',),\n",
              " ('Braila',),\n",
              " ('Bremen',),\n",
              " ('Brest',),\n",
              " ('Brugge',),\n",
              " ('Bucharest',),\n",
              " ('Burgas',),\n",
              " ('Burgos',),\n",
              " ('Bydgoszcz',),\n",
              " ('Bytom',),\n",
              " ('Caen',),\n",
              " ('Cambridge',),\n",
              " ('Cartagena',),\n",
              " ('Catania',),\n",
              " ('Chemnitz',),\n",
              " ('Constanta',),\n",
              " ('Cork',),\n",
              " ('Cosenza',),\n",
              " ('Craiova',),\n",
              " ('Daugavpils',),\n",
              " ('Dijon',),\n",
              " ('Dublin',),\n",
              " ('Dundee',),\n",
              " ('Edinburgh',),\n",
              " ('Elblag',),\n",
              " ('Erfurt',),\n",
              " ('Exeter',),\n",
              " ('Foggia',),\n",
              " ('Frankfurt',),\n",
              " ('Freiburg',),\n",
              " ('Galway',),\n",
              " ('Genoa',),\n",
              " ('Glasgow',),\n",
              " ('Göteborg',),\n",
              " ('Granada',),\n",
              " ('Grenoble',),\n",
              " ('Groningen',),\n",
              " ('Heidelberg',),\n",
              " ('Helsinki',),\n",
              " ('Huelva',),\n",
              " ('Ingolstadt',),\n",
              " ('Inverness',),\n",
              " ('Kalamata',),\n",
              " ('Karlsruhe',),\n",
              " ('Kaunas',),\n",
              " ('Kielce',),\n",
              " ('Kiruna',),\n",
              " ('Klaipeda',),\n",
              " ('Koszalin',),\n",
              " ('Le Mans',),\n",
              " ('Lille',),\n",
              " ('Limoges',),\n",
              " ('Lisbon',),\n",
              " ('Ljubljana',),\n",
              " ('Maastricht',),\n",
              " ('Madrid',),\n",
              " ('Magdeburg',),\n",
              " ('Malmö',),\n",
              " ('Marbella',),\n",
              " ('Marseille',),\n",
              " ('Messina',),\n",
              " ('Metz',),\n",
              " ('Milan',),\n",
              " ('Montpellier',),\n",
              " ('Mulhouse',),\n",
              " ('Murcia',),\n",
              " ('Nice',),\n",
              " ('Odense',),\n",
              " ('Oulu',),\n",
              " ('Oviedo',),\n",
              " ('Palermo',),\n",
              " ('Patras',),\n",
              " ('Perpignan',),\n",
              " ('Perugia',),\n",
              " ('Pescara',),\n",
              " ('Pleven',),\n",
              " ('Plovdiv',),\n",
              " ('Poznan',),\n",
              " ('Reims',),\n",
              " ('Riga',),\n",
              " ('Rijeka',),\n",
              " ('Rome',),\n",
              " ('Rostock',),\n",
              " ('Ruse',),\n",
              " ('Salamanca',),\n",
              " ('Santander',),\n",
              " ('Sibiu',),\n",
              " ('Split',),\n",
              " ('Stara Zagora',),\n",
              " ('Stockholm',),\n",
              " ('Swansea',),\n",
              " ('Tallinn',),\n",
              " ('Tampere',),\n",
              " ('Tartu',),\n",
              " ('Toulouse',),\n",
              " ('Trieste',),\n",
              " ('Trikala',),\n",
              " ('Turku',),\n",
              " ('Uppsala',),\n",
              " ('Valencia',),\n",
              " ('Vigo',),\n",
              " ('Vilnius',),\n",
              " ('Warsaw',),\n",
              " ('Wroclaw',),\n",
              " ('Zaragoza',)]"
            ]
          },
          "metadata": {
            "tags": []
          },
          "execution_count": 18
        }
      ]
    },
    {
      "cell_type": "code",
      "metadata": {
        "id": "hV_CLUDQRz0g"
      },
      "source": [
        ""
      ],
      "execution_count": null,
      "outputs": []
    }
  ]
}