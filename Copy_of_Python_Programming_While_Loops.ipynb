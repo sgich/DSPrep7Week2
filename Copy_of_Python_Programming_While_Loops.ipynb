{
  "nbformat": 4,
  "nbformat_minor": 0,
  "metadata": {
    "colab": {
      "name": "Copy of Python Programming: While Loops ",
      "provenance": [],
      "collapsed_sections": [
        "i2g_QFDd8RuT",
        "Rq3yNgQ8PDsY",
        "o2l2ojIRIXs9",
        "aoHtqtjuabCr",
        "bJSuEO5NKzC6",
        "c13xlVleK8Dd",
        "m-WluVZoLBie",
        "pt06jAbBLK7j"
      ],
      "toc_visible": true
    },
    "kernelspec": {
      "name": "python3",
      "display_name": "Python 3"
    }
  },
  "cells": [
    {
      "cell_type": "markdown",
      "metadata": {
        "id": "BSv_43aDRGBd"
      },
      "source": [
        "<font color=\"green\">*To start working on this notebook, or any other notebook that we will use in the Moringa Data Science Course, we will need to save our own copy of it. We can do this by clicking File > Save a Copy in Drive. We will then be able to make edits to our own copy of this notebook.*</font>"
      ]
    },
    {
      "cell_type": "markdown",
      "metadata": {
        "id": "0hkJ3D_I8PHe"
      },
      "source": [
        "# Python Programming: While Loops "
      ]
    },
    {
      "cell_type": "markdown",
      "metadata": {
        "id": "i2g_QFDd8RuT"
      },
      "source": [
        "## 1.0 Iterating over a While Loop"
      ]
    },
    {
      "cell_type": "code",
      "metadata": {
        "id": "84FCIuE4FfUg",
        "outputId": "7a732164-f6ca-454a-8a82-c33e5e7c021d",
        "colab": {
          "base_uri": "https://localhost:8080/"
        }
      },
      "source": [
        "# Example 1\n",
        "# Below is an example of a program that iterates through the use of a while loop \n",
        "# We will start counting from 1, and then stop at 19 \n",
        "# (each time increasing the value of the count by 1)\n",
        "#\n",
        "\n",
        "# Defining where our loop will start counting from\n",
        "increment_count = 1\n",
        "\n",
        "# Performing our iteration by first defining when to perform the iteration \n",
        "# in this case when the increment count is less than 20 and greater than 0\n",
        "# \n",
        "while 20 > increment_count > 0:\n",
        "  \n",
        "    print ('Increment = ', increment_count)\n",
        "    \n",
        "    # incrementing our increment_count by 1\n",
        "    increment_count = increment_count + 1"
      ],
      "execution_count": 2,
      "outputs": [
        {
          "output_type": "stream",
          "text": [
            "Increment =  1\n",
            "Increment =  2\n",
            "Increment =  3\n",
            "Increment =  4\n",
            "Increment =  5\n",
            "Increment =  6\n",
            "Increment =  7\n",
            "Increment =  8\n",
            "Increment =  9\n",
            "Increment =  10\n",
            "Increment =  11\n",
            "Increment =  12\n",
            "Increment =  13\n",
            "Increment =  14\n",
            "Increment =  15\n",
            "Increment =  16\n",
            "Increment =  17\n",
            "Increment =  18\n",
            "Increment =  19\n"
          ],
          "name": "stdout"
        }
      ]
    },
    {
      "cell_type": "code",
      "metadata": {
        "id": "PV7t7NG4IWgl",
        "outputId": "f60bc4ff-ba6e-4dc8-e3ee-2931009aeaf7",
        "colab": {
          "base_uri": "https://localhost:8080/"
        }
      },
      "source": [
        "# Example 2\n",
        "# Iterating over a list using a while loop\n",
        "#\n",
        "\n",
        "# First defining our list\n",
        "facilitators = ['James', 'Rosa', 'Nyambura', 'Emma', 'Leila', 'Simon', 'Lucy', 'Sabina', 'Isaac']\n",
        "\n",
        "# Our while loop will start counting from 0,\n",
        "i = 0\n",
        "\n",
        "# determining the no. of elements in our facilitators list\n",
        "no_of_facilitators = len(facilitators) \n",
        "\n",
        "# Performing our iteration, starting from 0 until i is not less than the no_of_facilitators\n",
        "while i < no_of_facilitators:\n",
        "  \n",
        "  # print out the element in the list as per the index\n",
        "  print(facilitators[i])\n",
        "  \n",
        "  # incrementing our i by 1\n",
        "  i += 1"
      ],
      "execution_count": 3,
      "outputs": [
        {
          "output_type": "stream",
          "text": [
            "James\n",
            "Rosa\n",
            "Nyambura\n",
            "Emma\n",
            "Leila\n",
            "Simon\n",
            "Lucy\n",
            "Sabina\n",
            "Isaac\n"
          ],
          "name": "stdout"
        }
      ]
    },
    {
      "cell_type": "code",
      "metadata": {
        "id": "wZxd3taRIXFU",
        "outputId": "0c2ffb97-a0e9-4d73-dbc9-129166061def",
        "colab": {
          "base_uri": "https://localhost:8080/"
        }
      },
      "source": [
        "# Example 3\n",
        "# In this example we will work with nested while loops \n",
        "#\n",
        "\n",
        "# Creating an integer\n",
        "n = 1\n",
        "\n",
        "# Iterating whilst the value of n is less than or equal to 2\n",
        "while n <= 2:\n",
        "\n",
        "    # Creating an integer\n",
        "    m = 1\n",
        "\n",
        "    # Iterating whilst the value of m is less than or equal to 2\n",
        "    while m <= 3:\n",
        "        print('outer loop iteration {}, nested loop iteration {}'.format(n, m))\n",
        "\n",
        "        # Adding 1 to value m\n",
        "        m += 1\n",
        "\n",
        "    # Adding 1 to value n\n",
        "    n += 1"
      ],
      "execution_count": 4,
      "outputs": [
        {
          "output_type": "stream",
          "text": [
            "outer loop iteration 1, nested loop iteration 1\n",
            "outer loop iteration 1, nested loop iteration 2\n",
            "outer loop iteration 1, nested loop iteration 3\n",
            "outer loop iteration 2, nested loop iteration 1\n",
            "outer loop iteration 2, nested loop iteration 2\n",
            "outer loop iteration 2, nested loop iteration 3\n"
          ],
          "name": "stdout"
        }
      ]
    },
    {
      "cell_type": "markdown",
      "metadata": {
        "id": "Rq3yNgQ8PDsY"
      },
      "source": [
        "### <font color=\"green\"> 1.0 Challenges </font>"
      ]
    },
    {
      "cell_type": "code",
      "metadata": {
        "id": "YIqwK5ZEPbKv",
        "outputId": "59e2f6c6-3513-451f-9611-88444ef55527",
        "colab": {
          "base_uri": "https://localhost:8080/"
        }
      },
      "source": [
        "# Challenge 1\n",
        "# Print out the numbers between 1 and 10 inclusive using a while loop\n",
        "#\n",
        "\n",
        "i = 0\n",
        "while i < 10:\n",
        "  i +=1\n",
        "  print(i)\n",
        "  "
      ],
      "execution_count": 8,
      "outputs": [
        {
          "output_type": "stream",
          "text": [
            "1\n",
            "2\n",
            "3\n",
            "4\n",
            "5\n",
            "6\n",
            "7\n",
            "8\n",
            "9\n",
            "10\n"
          ],
          "name": "stdout"
        }
      ]
    },
    {
      "cell_type": "code",
      "metadata": {
        "id": "zlUiz3BsPbA2",
        "outputId": "50c78ba0-aa81-4264-ef87-85eeead1e316",
        "colab": {
          "base_uri": "https://localhost:8080/"
        }
      },
      "source": [
        "# Challenge 2\n",
        "# Iterate through given years in the defined list below and stop at the year 2004, \n",
        "# then print out the number of iterations. \n",
        "# \n",
        "\n",
        "dates_list = [2001, 2002, 2003, 2004, 2005, 2006, 2007, 2008, 2009, 2010]\n",
        "count = 0\n",
        "l = len(dates_list)\n",
        "s = 2004\n",
        "while count < l:\n",
        "  if s == dates_list[count]:\n",
        "    break\n",
        "  print(dates_list[count])\n",
        "  count+=1"
      ],
      "execution_count": 87,
      "outputs": [
        {
          "output_type": "stream",
          "text": [
            "2001\n",
            "2002\n",
            "2003\n"
          ],
          "name": "stdout"
        }
      ]
    },
    {
      "cell_type": "code",
      "metadata": {
        "id": "qbT7YJz2Pa5K",
        "outputId": "c02a998b-ec69-4e5b-a03d-7500b34d3d49",
        "colab": {
          "base_uri": "https://localhost:8080/"
        }
      },
      "source": [
        "# Challenge 3\n",
        "# Using a nested loop, print “X is negative” as long as x is less than 0?\n",
        "# \n",
        "c = 0\n",
        "\n",
        "while True:\n",
        "  x = int(input(\"Enter number(to stop loop enter '8'): \"))\n",
        "  if x == 8:\n",
        "        print('loop ended')\n",
        "        c+=1\n",
        "        break\n",
        "\n",
        "  \n",
        "  while x < 0:\n",
        "      print('X is negative')\n",
        "      break\n",
        "\n",
        "   \n",
        "\n"
      ],
      "execution_count": 167,
      "outputs": [
        {
          "output_type": "stream",
          "text": [
            "Enter number(to stop loop enter '8'): 9\n",
            "Enter number(to stop loop enter '8'): 6\n",
            "Enter number(to stop loop enter '8'): -7\n",
            "X is negative\n",
            "Enter number(to stop loop enter '8'): -24\n",
            "X is negative\n",
            "Enter number(to stop loop enter '8'): 0\n",
            "Enter number(to stop loop enter '8'): -36\n",
            "X is negative\n",
            "Enter number(to stop loop enter '8'): 8\n",
            "loop ended\n"
          ],
          "name": "stdout"
        }
      ]
    },
    {
      "cell_type": "markdown",
      "metadata": {
        "id": "o2l2ojIRIXs9"
      },
      "source": [
        "-## 1.2 The Break Statement"
      ]
    },
    {
      "cell_type": "code",
      "metadata": {
        "id": "G9Y85nvWMIpK",
        "outputId": "2c3c2d31-d464-4e4f-b54b-8b39e9c00c27",
        "colab": {
          "base_uri": "https://localhost:8080/"
        }
      },
      "source": [
        "# Example 1\n",
        "# The break statement allows you to exit a loop from any point within its body. \n",
        "# We can use a break statement while as shown\n",
        "#  \n",
        "\n",
        "n = 1\n",
        "\n",
        "while True:\n",
        "  \n",
        "    print (n)\n",
        "    \n",
        "    n+=1\n",
        "    \n",
        "    if n==4:\n",
        "      \n",
        "        break\n",
        "    \n",
        "print(\"After Break\")"
      ],
      "execution_count": 38,
      "outputs": [
        {
          "output_type": "stream",
          "text": [
            "1\n",
            "2\n",
            "3\n",
            "After Break\n"
          ],
          "name": "stdout"
        }
      ]
    },
    {
      "cell_type": "code",
      "metadata": {
        "id": "2l8qKnW1MJUH",
        "outputId": "6b2c58cf-f7e1-4051-a42c-692df44ce392",
        "colab": {
          "base_uri": "https://localhost:8080/"
        }
      },
      "source": [
        "# Example 2\n",
        "# Using a break statement while iterating over our facilitators\n",
        "#\n",
        "\n",
        "# First defining our list\n",
        "facilitators = ['James', 'Rosa', 'Nyambura', 'Emma', 'Leila', 'Simon', 'Lucy', 'Sabina', 'Isaac']\n",
        "\n",
        "# Our while loop will start counting from 0,\n",
        "i = 0\n",
        "\n",
        "# determining the no. of elements in our facilitators list\n",
        "no_of_facilitators = len(facilitators) \n",
        "\n",
        "# defining our word variable\n",
        "word = \"Emma\"\n",
        "\n",
        "\n",
        "# Performing our iteration, starting from 0 until i is not less than the no_of_facilitators\n",
        "while i < no_of_facilitators:\n",
        "  \n",
        "  # print out the element in the list as per the index\n",
        "  if word == facilitators[i]:\n",
        "    \n",
        "      print(\"Find the element at position:\",i)\n",
        "    \n",
        "      break\n",
        "  \n",
        "  # incrementing our i by 1\n",
        "  i += 1"
      ],
      "execution_count": 39,
      "outputs": [
        {
          "output_type": "stream",
          "text": [
            "Find the element at position: 3\n"
          ],
          "name": "stdout"
        }
      ]
    },
    {
      "cell_type": "code",
      "metadata": {
        "id": "yKHgYoplhF9D",
        "outputId": "f99a8d78-1286-43c7-b29f-ec71f391c8f4",
        "colab": {
          "base_uri": "https://localhost:8080/"
        }
      },
      "source": [
        "# Example 3\n",
        "# Imax theatre charges different ticket prices depending on a persons age.  \n",
        "# If a person is under the age of 3, the ticket is free; \n",
        "# If they are between 3 and 12, the ticket is Ksh.500; \n",
        "# and if they are over age 12, the ticket is Ksh.800.  \n",
        "# Write a loop in which you ask their age, and then tell them the cost of the ticket.\n",
        "#\n",
        "\n",
        "prompt = \"\\nPlease enter your age so we can tell you the price of the ticket:\"\n",
        "prompt += \"\\n(Enter 'done' when you are finished.) \"\n",
        "\n",
        "while True:\n",
        "    age = input(prompt)\n",
        "    if age == 'done':\n",
        "        break\n",
        "    age = int(age)\n",
        "\n",
        "    if age < 3:\n",
        "        print(\"Since you are \" + str(age) + \" the cost of the movie ticket is Free!\")\n",
        "    elif age > 3 and age <= 12:\n",
        "        print(\"Since you are \" + str(age) + \" the cost of the movie ticket is Ksh.500.\")\n",
        "    else:\n",
        "        print(\"Since you are \" + str(age) + \" the cost of the movie ticket is Ksh.800\")"
      ],
      "execution_count": 46,
      "outputs": [
        {
          "output_type": "stream",
          "text": [
            "\n",
            "Please enter your age so we can tell you the price of the ticket:\n",
            "(Enter 'done' when you are finished.) 53\n",
            "Since you are 53 the cost of the movie ticket is Ksh.800\n",
            "\n",
            "Please enter your age so we can tell you the price of the ticket:\n",
            "(Enter 'done' when you are finished.) done\n"
          ],
          "name": "stdout"
        }
      ]
    },
    {
      "cell_type": "markdown",
      "metadata": {
        "id": "aoHtqtjuabCr"
      },
      "source": [
        "### <font color=\"green\">1.2 Challenges</font>"
      ]
    },
    {
      "cell_type": "code",
      "metadata": {
        "id": "Dd1_N4MRad_Q",
        "outputId": "ec3ec6b2-32a3-4d9f-b61d-bb4c2008cba8",
        "colab": {
          "base_uri": "https://localhost:8080/"
        }
      },
      "source": [
        "# Challenge 1\n",
        "# Write a while loop to display the values of the Rating of an album playlist \n",
        "# stored in the list “PlayListRatings”. If the score is less than 6, exit the loop. \n",
        "# The list “PlayListRatings” is given by: PlayListRatings = [10, 9.5, 10, 8, 7.5, 5, 10, 10]:\n",
        "# \n",
        "\n",
        "PlayListRatings = [10, 9.5, 10, 8, 7.5, 5, 10, 10]\n",
        "n = 0\n",
        "k = len(PlayListRatings)\n",
        "rate = 6\n",
        "c = PlayListRatings[0]\n",
        "while n < k:\n",
        "      if rate > PlayListRatings[n]:\n",
        "        break\n",
        "      print(PlayListRatings[n])\n",
        "      n+=1\n"
      ],
      "execution_count": 84,
      "outputs": [
        {
          "output_type": "stream",
          "text": [
            "10\n",
            "9.5\n",
            "10\n",
            "8\n",
            "7.5\n"
          ],
          "name": "stdout"
        }
      ]
    },
    {
      "cell_type": "code",
      "metadata": {
        "id": "DqQMoboYaelF",
        "outputId": "8c45e683-5aba-46dc-e393-955ce00aec11",
        "colab": {
          "base_uri": "https://localhost:8080/"
        }
      },
      "source": [
        "# Challenge 2\n",
        "# Iterate through the following names list and stop if the name is Andrew\n",
        "# \n",
        "\n",
        "names = ['Jane', 'Jeremy', 'Pauline', 'George', 'Andrew', 'Michael']\n",
        "\n",
        "c = 0\n",
        "l = len(names)\n",
        "ch = 'Andrew'\n",
        "\n",
        "while c < l:\n",
        "  if ch == names[c]:\n",
        "    break\n",
        "  print(names[c])\n",
        "  c+=1"
      ],
      "execution_count": 89,
      "outputs": [
        {
          "output_type": "stream",
          "text": [
            "Jane\n",
            "Jeremy\n",
            "Pauline\n",
            "George\n"
          ],
          "name": "stdout"
        }
      ]
    },
    {
      "cell_type": "code",
      "metadata": {
        "id": "USWaUrYuaePF",
        "outputId": "63e6c730-1e3a-4a5d-cbd3-ecb574e0b5fb",
        "colab": {
          "base_uri": "https://localhost:8080/"
        }
      },
      "source": [
        "# Challenge 3\n",
        "# Write a program that finds the sum of any two numbers entered by a user, \n",
        "# If one of the numbers is a negative number then the program should stop, \n",
        "# else it could compute and display the sum;\n",
        "# \n",
        "num1 = 'Enter 1st number: '\n",
        "num2 = 'Enter 2nd number: '\n",
        "\n",
        "while True:\n",
        "  nm1 = int(input(num1))\n",
        "  \n",
        "  if nm1 < 0 or nm1 == 0:\n",
        "    break\n",
        "  \n",
        "  nm2 = int(input(num2))\n",
        "  \n",
        "  if nm2 < 0 or nm2 == 0:\n",
        "    break\n",
        "  \n",
        "  else:\n",
        "    print('The sum = ' + str(nm1+nm2)) "
      ],
      "execution_count": 94,
      "outputs": [
        {
          "output_type": "stream",
          "text": [
            "Enter 1st number: 0\n"
          ],
          "name": "stdout"
        }
      ]
    },
    {
      "cell_type": "markdown",
      "metadata": {
        "id": "bJSuEO5NKzC6"
      },
      "source": [
        "## 1.3 The Continue Statement"
      ]
    },
    {
      "cell_type": "code",
      "metadata": {
        "id": "IZR7OhHqhsZg",
        "outputId": "b7136f57-2f3f-4dde-ec04-ed6d50a0ea0f",
        "colab": {
          "base_uri": "https://localhost:8080/"
        }
      },
      "source": [
        "# Example 1\n",
        "# The continue statement works like break but instead of forcing termination, \n",
        "# it forces the next iteration of the loop to take place \n",
        "# and skipping the rest of the code.\n",
        "# Below is our first example of using a continue statement while iterating over a list\n",
        "# \n",
        "\n",
        "# First defining our list\n",
        "facilitators = ['James', 'Rosa', 'Nyambura', 'Emma', 'Leila', 'Simon', 'Lucy', 'Sabina', 'Isaac']\n",
        "\n",
        "# Our while loop will start counting from 0,\n",
        "i = 0\n",
        "\n",
        "# determining the no. of elements in our facilitators list\n",
        "no_of_facilitators = len(facilitators) \n",
        "\n",
        "# defining our word variable\n",
        "word = \"Emma\"\n",
        "\n",
        "\n",
        "# Performing our iteration, starting from 0 until i is not less than the no_of_facilitators\n",
        "while i < no_of_facilitators:\n",
        "  \n",
        "    print(\"Checking element:\", i)\n",
        "    \n",
        "    if word != facilitators[i]:\n",
        "        \n",
        "        i = i + 1\n",
        "        \n",
        "        continue\n",
        " \n",
        "    print(\"Find the element at \", i)\n",
        "    \n",
        "    # stop the loop\n",
        "    i = no_of_facilitators "
      ],
      "execution_count": 102,
      "outputs": [
        {
          "output_type": "stream",
          "text": [
            "Checking element: 0\n",
            "Checking element: 1\n",
            "Checking element: 2\n",
            "Checking element: 3\n",
            "Find the element at  3\n"
          ],
          "name": "stdout"
        }
      ]
    },
    {
      "cell_type": "code",
      "metadata": {
        "id": "u-iOIUarhsK-",
        "outputId": "558af36e-1ff2-457d-ec3c-e493526bdbe2",
        "colab": {
          "base_uri": "https://localhost:8080/"
        }
      },
      "source": [
        "# Example 2\n",
        "# Asking the user for input and printing the input if is isn't #. \n",
        "# if the input is #, we continue else if the input is 'done' we end the loop\n",
        "#\n",
        "\n",
        "print(\"Type 'done' when you want to leave the loop.\")\n",
        "\n",
        "while True:\n",
        "    name = input('Please enter your name: ')\n",
        "    if name == '#':\n",
        "      \n",
        "        continue \n",
        "        \n",
        "    if name == 'done':\n",
        "      \n",
        "        break\n",
        "        \n",
        "    print(name)\n",
        "    \n",
        "\n",
        "print('Done!')\n"
      ],
      "execution_count": 98,
      "outputs": [
        {
          "output_type": "stream",
          "text": [
            "Type 'done' when you want to leave the loop.\n",
            "Please enter your name: bh\n",
            "bh\n",
            "Please enter your name: a\n",
            "a\n",
            "Please enter your name: #\n",
            "Please enter your name: d2\n",
            "d2\n",
            "Please enter your name: #\n",
            "Please enter your name: #\n",
            "Please enter your name: done\n",
            "Done!\n"
          ],
          "name": "stdout"
        }
      ]
    },
    {
      "cell_type": "markdown",
      "metadata": {
        "id": "c13xlVleK8Dd"
      },
      "source": [
        "### <font color=\"green\">1.3 Challenges</font>\n"
      ]
    },
    {
      "cell_type": "code",
      "metadata": {
        "id": "yyauW4_yurxI",
        "outputId": "10b05e52-313d-4163-ef2b-7ec53ba89878",
        "colab": {
          "base_uri": "https://localhost:8080/"
        }
      },
      "source": [
        "# Challenge 1\n",
        "# Let's while loop that prints out the following color list. \n",
        "# If should skip the color green during iteration.\n",
        "#\n",
        "\n",
        "color = ['red', 'yellow', 'green', 'white', 'purple', 'blue']\n",
        "\n",
        "c = 0\n",
        "cl = len(color)\n",
        "k = 'green'\n",
        "\n",
        "while c < cl:\n",
        "  if k == color[c]:\n",
        "    c+=1\n",
        "    continue\n",
        "    \n",
        "  if k!= color [c]:\n",
        "    print(color[c])\n",
        "    \n",
        "\n",
        "  c+=1\n",
        "\n"
      ],
      "execution_count": 113,
      "outputs": [
        {
          "output_type": "stream",
          "text": [
            "red\n",
            "yellow\n",
            "white\n",
            "purple\n",
            "blue\n"
          ],
          "name": "stdout"
        }
      ]
    },
    {
      "cell_type": "markdown",
      "metadata": {
        "id": "m-WluVZoLBie"
      },
      "source": [
        "## 1.4 The Else Statement"
      ]
    },
    {
      "cell_type": "code",
      "metadata": {
        "id": "7-CCMfxfOj4L",
        "outputId": "22f0fecf-0408-4992-cdcf-6c4d12bfa847",
        "colab": {
          "base_uri": "https://localhost:8080/"
        }
      },
      "source": [
        "# Example 1\n",
        "# Showing how the else statement works with the while loop\n",
        "# \n",
        "\n",
        "# Defining our start count\n",
        "counting = 0\n",
        "\n",
        "# \n",
        "while counting < 3:\n",
        "  \n",
        "    print(\"Iterating inside while loop\")\n",
        "    \n",
        "    counting = counting + 1\n",
        "    \n",
        "# The else statement will run if the while condition becomes false\n",
        "else:\n",
        "    print(\"Running the else block...\")\n"
      ],
      "execution_count": 114,
      "outputs": [
        {
          "output_type": "stream",
          "text": [
            "Iterating inside while loop\n",
            "Iterating inside while loop\n",
            "Iterating inside while loop\n",
            "Running the else block...\n"
          ],
          "name": "stdout"
        }
      ]
    },
    {
      "cell_type": "code",
      "metadata": {
        "id": "-ku-JJLqvMql",
        "outputId": "315959b2-2720-4cf3-8204-9e1a3d70f523",
        "colab": {
          "base_uri": "https://localhost:8080/"
        }
      },
      "source": [
        "# Example 2\n",
        "# Another example of using an else and a break statement in a while loop\n",
        "#\n",
        "\n",
        "myNum = 6\n",
        "\n",
        "myVar = 1\n",
        "\n",
        "while myVar <= 10 :\n",
        "  \n",
        "    if myVar == myNum :\n",
        "      \n",
        "            print(\"Breaking out of the loop\")\n",
        "        \n",
        "            break\n",
        "        \n",
        "    print(\"This number = \" + str(myVar))\n",
        "        \n",
        "    myVar += 1\n",
        "    \n",
        "else:\n",
        "  \n",
        "    print(\"Break statement is executed, printing 'else' block\")"
      ],
      "execution_count": 115,
      "outputs": [
        {
          "output_type": "stream",
          "text": [
            "This number = 1\n",
            "This number = 2\n",
            "This number = 3\n",
            "This number = 4\n",
            "This number = 5\n",
            "Breaking out of the loop\n"
          ],
          "name": "stdout"
        }
      ]
    },
    {
      "cell_type": "code",
      "metadata": {
        "id": "OZU30VcZvNEz",
        "outputId": "bbb5596e-6a01-4016-af9b-cbe23d5c99fe",
        "colab": {
          "base_uri": "https://localhost:8080/"
        }
      },
      "source": [
        "# Example 3\n",
        "# Say we want write the first ten numbers shown below. \n",
        "# But for the final number (i.e. 10), we want to write “The final count is: “.\n",
        "# \n",
        "\n",
        "count = 0\n",
        "\n",
        "while count < 10:\n",
        "  \n",
        "    print(\"The current count is: \", count)\n",
        "      \n",
        "    count += 1\n",
        "    \n",
        "else:\n",
        "  \n",
        "    print(\"The final count is: \", count)"
      ],
      "execution_count": 116,
      "outputs": [
        {
          "output_type": "stream",
          "text": [
            "The current count is:  0\n",
            "The current count is:  1\n",
            "The current count is:  2\n",
            "The current count is:  3\n",
            "The current count is:  4\n",
            "The current count is:  5\n",
            "The current count is:  6\n",
            "The current count is:  7\n",
            "The current count is:  8\n",
            "The current count is:  9\n",
            "The final count is:  10\n"
          ],
          "name": "stdout"
        }
      ]
    },
    {
      "cell_type": "markdown",
      "metadata": {
        "id": "pt06jAbBLK7j"
      },
      "source": [
        "### <font color=\"green\">1.4 Challenges</font>"
      ]
    },
    {
      "cell_type": "code",
      "metadata": {
        "id": "VXM0D76BvgnX",
        "outputId": "ae9abf12-9d3a-442f-9dd8-03d80ad3ba16",
        "colab": {
          "base_uri": "https://localhost:8080/"
        }
      },
      "source": [
        "# Example 1\n",
        "# Write a program that takes in tempearature from a user, \n",
        "# checks whether the temperature is > 40 degrees Celcius, \n",
        "# then prints out whether the templerature is too hot or cold.\n",
        "# \n",
        "\n",
        "t = int(input('Enter your temperature in degrees celsius: '))\n",
        "c = 0\n",
        "\n",
        "while c < 1:\n",
        "  if t > 40:\n",
        "    print('Too Hot!')\n",
        "\n",
        "  else:\n",
        "    print('cold')\n",
        "  break"
      ],
      "execution_count": 123,
      "outputs": [
        {
          "output_type": "stream",
          "text": [
            "Enter your temperature in degrees celsius: 41\n",
            "Too Hot!\n"
          ],
          "name": "stdout"
        }
      ]
    },
    {
      "cell_type": "code",
      "metadata": {
        "id": "lg-2KZfOOsxR",
        "outputId": "dd64a674-9972-4170-d74c-730daf29be6a",
        "colab": {
          "base_uri": "https://localhost:8080/"
        }
      },
      "source": [
        "# Example 2\n",
        "# Let's a program that takes a number between 0 - 100 as input. \n",
        "# If we enter a valid number 3 times, then the while loop runs successfully, \n",
        "# and the message from the else clause would get displayed i.e. \"While loop ended!\".\n",
        "# If we enter an invalid number, then the loop would get aborted \n",
        "# without execting the code in the else.\n",
        "\n",
        "c = 0\n",
        "\n",
        "while c < 3:\n",
        "  x = int(input('Enter Integer between 0-100: '))\n",
        "  if x < 0 or x > 100:\n",
        "    break\n",
        "  if x > 0 or x < 100:\n",
        "    print('So far so good')\n",
        "    c+=1\n",
        "else:\n",
        "   print('While loop ended')"
      ],
      "execution_count": 126,
      "outputs": [
        {
          "output_type": "stream",
          "text": [
            "Enter Integer between 0-100: 142\n"
          ],
          "name": "stdout"
        }
      ]
    }
  ]
}