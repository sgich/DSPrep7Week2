{
  "nbformat": 4,
  "nbformat_minor": 0,
  "metadata": {
    "colab": {
      "name": "Copy of Python Programming: For Loops ",
      "provenance": [],
      "collapsed_sections": [
        "pt06jAbBLK7j",
        "1ChnVcJNhUmi"
      ]
    },
    "kernelspec": {
      "name": "python3",
      "display_name": "Python 3"
    }
  },
  "cells": [
    {
      "cell_type": "markdown",
      "metadata": {
        "id": "jruAPRDjs09-"
      },
      "source": [
        "<font color=\"green\">*To start working on this notebook, or any other notebook that we will use in this course, we will need to save our own copy of it. We can do this by clicking File > Save a Copy in Drive. We will then be able to make edits to our own copy of this notebook.*</font>"
      ]
    },
    {
      "cell_type": "markdown",
      "metadata": {
        "id": "0hkJ3D_I8PHe"
      },
      "source": [
        "# Python Programming: For Loops "
      ]
    },
    {
      "cell_type": "markdown",
      "metadata": {
        "id": "i2g_QFDd8RuT"
      },
      "source": [
        "## 1.0 Overview"
      ]
    },
    {
      "cell_type": "code",
      "metadata": {
        "id": "PV7t7NG4IWgl",
        "outputId": "d50f895f-fe6f-4d47-bd49-8df49731e027",
        "colab": {
          "base_uri": "https://localhost:8080/"
        }
      },
      "source": [
        "# Example 1\n",
        "# For loops are used to iterate over a sequence (i.e. list, dictionary, string etc.) \n",
        "# then perform some action.\n",
        "# In this example, we will start to learn about for loops by iterating through a python list\n",
        "# We will define this list as kenyan_football_players\n",
        "#\n",
        "\n",
        "# Defining our python list\n",
        "\n",
        "kenyan_football_players = [\"Victor Wanyama\", \"Michael Olunga\", \"McDonald Mariga\"]\n",
        "\n",
        "# printing the list out\n",
        "print(kenyan_football_players)\n",
        "\n",
        "#then using a for loop to iterate through the list\n",
        "for x in kenyan_football_players:\n",
        "  print(x)\n",
        "\n",
        "# Let's look at what the above line of code does...\n",
        "# The for loop goes inside the kenyan_football_players list, picks up the first element (which is Victor Wanyama), it then stores it in a temporary variable x. Once stored, it then prints out the value inside the variable x.\n",
        "# After printing the value of x, it goes in the list again and picks the second element(this time it's Michael Olunga), it stores this element inside the variable x again but this  time it replaces the value of x that was stored the first time. After storing the new value of x, it goes ahead and print the new value of x.\n",
        "# It repeats this process until all the elements in the list are printed out.\n",
        "# The process of going through each element in a list is called iteration.\n",
        "# Note: The x in the for loop, is only a temporary variable and you can name it anything you like (you are not limited to only using x).\n",
        "# Please take note of the print statement in the above lines of code. You'll notice that its indented. This tells python that that line of code is inside the for loop hence its the body of the loop. What this means is that it should be executed every time the loop iterates through the list. \n",
        "# If we were to remove the indentation, then it would mean that the print statement is outside the for loop hence the loop would do nothing once it iterates through the list. Once we run the code it would display an error.\n"
      ],
      "execution_count": null,
      "outputs": [
        {
          "output_type": "stream",
          "text": [
            "['Victor Wanyama', 'Michael Olunga', 'McDonald Mariga']\n",
            "Victor Wanyama\n",
            "Michael Olunga\n",
            "McDonald Mariga\n"
          ],
          "name": "stdout"
        }
      ]
    },
    {
      "cell_type": "code",
      "metadata": {
        "id": "EE4JTNUQbPGg",
        "outputId": "90716077-6a99-4bd5-e5ef-d9e9300e87fa",
        "colab": {
          "base_uri": "https://localhost:8080/"
        }
      },
      "source": [
        "# Example 2\n",
        "# We can also create and iterate over a list called fruits\n",
        "# from our learnings above\n",
        "\n",
        "# Creating our python list\n",
        "fruits = [\"bananas\", \"grapes\", \"mangoes\"]\n",
        "\n",
        "# printing the list out\n",
        "print(fruits)\n",
        "\n",
        "# Use a for loop to iterate through the fruits list and print out each element in the list.\n",
        "\n",
        "for(x) in fruits:\n",
        "  print(x)"
      ],
      "execution_count": null,
      "outputs": [
        {
          "output_type": "stream",
          "text": [
            "['bananas', 'grapes', 'mangoes']\n",
            "bananas\n",
            "grapes\n",
            "mangoes\n"
          ],
          "name": "stdout"
        }
      ]
    },
    {
      "cell_type": "code",
      "metadata": {
        "id": "wZxd3taRIXFU",
        "outputId": "2ba91da2-d02c-4880-8a04-fb26d82c19f5",
        "colab": {
          "base_uri": "https://localhost:8080/"
        }
      },
      "source": [
        "# Example 3\n",
        "# Let's now create a dictionary and iterate over it\n",
        "# Looping through a dictionary is slightly different from looping through a list. This is because a dictionary is comprised of key-value pairs.\n",
        "# There are several ways of looping through a dictionary. We will only look at a couple of them here\n",
        "\n",
        "# Creating our dictionary\n",
        "our_class = {\n",
        "    'Name': '7 East', \n",
        "    'Students': 27, \n",
        "    'Wing': 'East'\n",
        "}\n",
        "\n",
        "\n",
        "\n",
        "# Looping through keys only\n",
        "for x in our_class:\n",
        "  print(x)\n",
        "\n",
        "# This way of looping through a dictionary will only output the dictionary keys only. But what if we wanted to display the key value pair?\n",
        "print(\"****************************************************\") # separating the two ways of looping\n",
        "# To be able to achieve this, we are going to make use of a python's dictionary in-built function .items(). This function will allow us to access the key-value pair at the same time.\n",
        "\n",
        "for x,y in our_class.items():\n",
        "  print(x,\":\", y)\n",
        "\n",
        "# In the above lines of code, we are creating two temporary variables,x and y, where x is used to store the key element and y stores the value element. Then printing out the key-value pair of each dictionary elements.\n",
        "# You can read more on how to loop through dictionaries here: https://realpython.com/iterate-through-dictionary-python/\n"
      ],
      "execution_count": null,
      "outputs": [
        {
          "output_type": "stream",
          "text": [
            "Name\n",
            "Students\n",
            "Wing\n",
            "****************************************************\n",
            "Name : 7 East\n",
            "Students : 27\n",
            "Wing : East\n"
          ],
          "name": "stdout"
        }
      ]
    },
    {
      "cell_type": "markdown",
      "metadata": {
        "id": "IRmR3mRBebVj"
      },
      "source": [
        "### <font color=\"green\">1.0 Challenges </font>"
      ]
    },
    {
      "cell_type": "code",
      "metadata": {
        "id": "eHTjJGKZegoA",
        "outputId": "2af9e366-c18e-40a3-cc9e-f1a601fee306",
        "colab": {
          "base_uri": "https://localhost:8080/"
        }
      },
      "source": [
        "# Challenge 1\n",
        "# Given the dictionary below, use a for loop to iterate over it\n",
        "#\n",
        "\n",
        "# Creating our dictionary\n",
        "stocks = {\n",
        "    'Safaricom PLC': 146.48,\n",
        "    'KCB':44.11,\n",
        "    'National Bank':25.54\n",
        "}\n",
        "\n",
        "for x in  stocks:\n",
        "  print(x)\n",
        "\n",
        "print('****************************')\n",
        "\n",
        "for x, y in stocks.items():\n",
        "  print(x,y)"
      ],
      "execution_count": null,
      "outputs": [
        {
          "output_type": "stream",
          "text": [
            "Safaricom PLC\n",
            "KCB\n",
            "National Bank\n",
            "****************************\n",
            "Safaricom PLC 146.48\n",
            "KCB 44.11\n",
            "National Bank 25.54\n"
          ],
          "name": "stdout"
        }
      ]
    },
    {
      "cell_type": "code",
      "metadata": {
        "id": "X55AFs1Yehd3",
        "outputId": "46a698e9-b11e-41cf-f0ee-a69ab595dcd0",
        "colab": {
          "base_uri": "https://localhost:8080/"
        }
      },
      "source": [
        "# Challenge 2\n",
        "# Iterate over a list of dictionaries using a for loop\n",
        "#\n",
        "\n",
        "# Creating our list\n",
        "values = [{\"name\": \"Kevin\", \"food\": \"Chappati\"}, {\"name\": \"Ruth\", \"food\": \"Pilau\"}]\n",
        "\n",
        "for x in values:\n",
        "  #print(x)\n",
        "  for y in values [0] and values[1]:\n",
        "    print(y)\n",
        "print('***********************')\n"
      ],
      "execution_count": null,
      "outputs": [
        {
          "output_type": "stream",
          "text": [
            "name\n",
            "food\n",
            "name\n",
            "food\n",
            "***********************\n"
          ],
          "name": "stdout"
        }
      ]
    },
    {
      "cell_type": "code",
      "metadata": {
        "id": "2Hd9i56gehQ7",
        "outputId": "070599f9-a72a-494e-89e9-b44d4d3f0f92",
        "colab": {
          "base_uri": "https://localhost:8080/"
        }
      },
      "source": [
        "# Challenge 3 \n",
        "# Write a program that stores the values in a dictionary and \n",
        "# finds the average of values entered by a user. \n",
        "# The user will enter 0 to indicate that no further values will be provided. \n",
        "# \n",
        "\n",
        "#While True:\n",
        "#x = int(input('Enter Number: '))\n",
        "dictionary={}\n",
        "while True:\n",
        "    \n",
        "    tag= str(input('Enter the tag(a,b...): '))\n",
        "    val= int(input(\"enter actual number to be calculated(0 ends): \"))\n",
        "    if val == 0 or tag == 0:\n",
        "        break\n",
        "    if val != 0:\n",
        "        dictionary[tag] = val\n",
        "        continue\n",
        "        \n",
        "print(dictionary)    \n",
        "avg = (sum(dictionary.values())/len(dictionary))\n",
        "if avg != 0:\n",
        "  print(avg)\n",
        "\n",
        "\n",
        "#dictionary.items()\n"
      ],
      "execution_count": 58,
      "outputs": [
        {
          "output_type": "stream",
          "text": [
            "Enter the tag(a,b...): d\n",
            "enter actual number to be calculated(0 ends): 6\n",
            "Enter the tag(a,b...): 0\n",
            "enter actual number to be calculated(0 ends): 0\n",
            "{'d': 6}\n",
            "6.0\n"
          ],
          "name": "stdout"
        }
      ]
    },
    {
      "cell_type": "markdown",
      "metadata": {
        "id": "o2l2ojIRIXs9"
      },
      "source": [
        "4## 1.1 Looping Through a String"
      ]
    },
    {
      "cell_type": "code",
      "metadata": {
        "id": "G9Y85nvWMIpK",
        "outputId": "1181321c-b823-4d6d-eaed-4684dd7c7402",
        "colab": {
          "base_uri": "https://localhost:8080/"
        }
      },
      "source": [
        "# Example 1\n",
        "# For loops can also used for iterating over a string as shown; \n",
        "# Iterating through the string \"moringa\"\n",
        "# The logic behind it is pretty much the same as that of looping through lists.\n",
        "\n",
        "for y in \"moringa\":\n",
        "  print(y)"
      ],
      "execution_count": null,
      "outputs": [
        {
          "output_type": "stream",
          "text": [
            "m\n",
            "o\n",
            "r\n",
            "i\n",
            "n\n",
            "g\n",
            "a\n"
          ],
          "name": "stdout"
        }
      ]
    },
    {
      "cell_type": "code",
      "metadata": {
        "id": "2l8qKnW1MJUH",
        "outputId": "7bcdbf68-f1e8-411d-962d-4fc0d334cfc1",
        "colab": {
          "base_uri": "https://localhost:8080/"
        }
      },
      "source": [
        "# Example 2\n",
        "# Lets iterate through your name below.\n",
        "# Replace OUR CODE GOES HERE with you name;\n",
        "#\n",
        "\n",
        "for y in \"Ngunjiri\":\n",
        "  print(y)"
      ],
      "execution_count": null,
      "outputs": [
        {
          "output_type": "stream",
          "text": [
            "N\n",
            "g\n",
            "u\n",
            "n\n",
            "j\n",
            "i\n",
            "r\n",
            "i\n"
          ],
          "name": "stdout"
        }
      ]
    },
    {
      "cell_type": "code",
      "metadata": {
        "id": "m29pJWEgqTqz",
        "outputId": "0cb9ad10-dc01-49a6-dce3-3da72e564cec",
        "colab": {
          "base_uri": "https://localhost:8080/"
        }
      },
      "source": [
        "# Example 3\n",
        "# Iterate through the following string\n",
        "# \n",
        "\n",
        "greetings = \"Hello everyone!\"\n",
        "\n",
        "for g in greetings:\n",
        "    print(g)"
      ],
      "execution_count": null,
      "outputs": [
        {
          "output_type": "stream",
          "text": [
            "H\n",
            "e\n",
            "l\n",
            "l\n",
            "o\n",
            " \n",
            "e\n",
            "v\n",
            "e\n",
            "r\n",
            "y\n",
            "o\n",
            "n\n",
            "e\n",
            "!\n"
          ],
          "name": "stdout"
        }
      ]
    },
    {
      "cell_type": "markdown",
      "metadata": {
        "id": "aoHtqtjuabCr"
      },
      "source": [
        "### <font color=\"green\">1.1 Challenges</font>"
      ]
    },
    {
      "cell_type": "code",
      "metadata": {
        "id": "Dd1_N4MRad_Q",
        "outputId": "e2aa3da6-f09a-43ee-d4a2-1ba51014be5c",
        "colab": {
          "base_uri": "https://localhost:8080/"
        }
      },
      "source": [
        "# Challenge 1\n",
        "# Iterate through the string \"Nairobi\"\n",
        "#\n",
        "for a in 'Nairobi':\n",
        "  print(a)"
      ],
      "execution_count": null,
      "outputs": [
        {
          "output_type": "stream",
          "text": [
            "N\n",
            "a\n",
            "i\n",
            "r\n",
            "o\n",
            "b\n",
            "i\n"
          ],
          "name": "stdout"
        }
      ]
    },
    {
      "cell_type": "code",
      "metadata": {
        "id": "DqQMoboYaelF",
        "outputId": "6aa723ee-7c63-43d6-bf46-46bc4ad6499e",
        "colab": {
          "base_uri": "https://localhost:8080/"
        }
      },
      "source": [
        "# Challenge 2\n",
        "# Print out the characters that make up the value of fruit as shown\n",
        "#\n",
        "\n",
        "fruit = 'banana'\n",
        "\n",
        "for w in fruit:\n",
        "  print(w)"
      ],
      "execution_count": null,
      "outputs": [
        {
          "output_type": "stream",
          "text": [
            "b\n",
            "a\n",
            "n\n",
            "a\n",
            "n\n",
            "a\n"
          ],
          "name": "stdout"
        }
      ]
    },
    {
      "cell_type": "code",
      "metadata": {
        "id": "USWaUrYuaePF",
        "outputId": "0f3d69c2-dc56-469f-bc8c-b686f7028653",
        "colab": {
          "base_uri": "https://localhost:8080/"
        }
      },
      "source": [
        "# Challenge 3\n",
        "# A user is prompted to provide a string (i.e. single or multiple strings) by the program.\n",
        "# Create a program that tell us the number of times the letter \"b\" appears in the user inut. Upon determination the program should display the number of times the letter appears in the user input.\n",
        "# For example, if the user inputs the string bubbles. The program should output a message like; The letter b has occured 3 times in your string. \n",
        "# \n",
        "# Hint: you will be required to use for loops and your knowledge of conditional statements to achieve the desired output.\n",
        "#\n",
        "\n",
        "word = str(input('Enter word(s): '))\n",
        "counter = 0\n",
        "for x in word:\n",
        "  if x == 'b':\n",
        "    counter = counter + 1\n",
        "print(counter)\n",
        "  \n",
        "\n"
      ],
      "execution_count": null,
      "outputs": [
        {
          "output_type": "stream",
          "text": [
            "Enter word(s): balls be gone\n",
            "2\n"
          ],
          "name": "stdout"
        }
      ]
    },
    {
      "cell_type": "markdown",
      "metadata": {
        "id": "bJSuEO5NKzC6"
      },
      "source": [
        "## 1.2 The Break Statement"
      ]
    },
    {
      "cell_type": "code",
      "metadata": {
        "id": "IZR7OhHqhsZg",
        "outputId": "a21654de-0895-404c-d012-1560950fcc30",
        "colab": {
          "base_uri": "https://localhost:8080/"
        }
      },
      "source": [
        "# Example 1\n",
        "# We can use the break statement to stop the loop before it continues iterating though all items;\n",
        "# Using the fruits list we can stop the loop \n",
        "# before it continues iterating through all items by\n",
        "#\n",
        "\n",
        "fruits = [\"bananas\", \"grapes\", \"mangoes\"]\n",
        "\n",
        "for x in fruits:\n",
        "  print(x) \n",
        "  if x == \"grapes\":\n",
        "    break"
      ],
      "execution_count": null,
      "outputs": [
        {
          "output_type": "stream",
          "text": [
            "bananas\n",
            "grapes\n"
          ],
          "name": "stdout"
        }
      ]
    },
    {
      "cell_type": "code",
      "metadata": {
        "id": "u-iOIUarhsK-",
        "outputId": "7c8814d1-f8cf-486f-da75-0b300670ce93",
        "colab": {
          "base_uri": "https://localhost:8080/"
        }
      },
      "source": [
        "# Example 2\n",
        "# We can also use the break statement during the iteration of a string a shown\n",
        "# \n",
        "\n",
        "for val in \"Moringa School\":\n",
        "    if val == \"i\":\n",
        "        break\n",
        "    print(val)\n",
        "print(\"The end\")"
      ],
      "execution_count": null,
      "outputs": [
        {
          "output_type": "stream",
          "text": [
            "M\n",
            "o\n",
            "r\n",
            "The end\n"
          ],
          "name": "stdout"
        }
      ]
    },
    {
      "cell_type": "code",
      "metadata": {
        "id": "HS0WkfrChrsH",
        "outputId": "ba32408d-239d-41f1-9259-c9f2faeacc3b",
        "colab": {
          "base_uri": "https://localhost:8080/"
        }
      },
      "source": [
        "# Example 3\n",
        "# Iterating through a string and breaking whenever the no. 98 is found\n",
        "# \n",
        "for num in [21, 29, 98, 20, 100, 13, 29]: \n",
        "   print(num)\n",
        "   if(num == 98):\n",
        "\t   print(\"The number 98 is found\") \n",
        "\t   break"
      ],
      "execution_count": null,
      "outputs": [
        {
          "output_type": "stream",
          "text": [
            "21\n",
            "29\n",
            "98\n",
            "The number 98 is found\n"
          ],
          "name": "stdout"
        }
      ]
    },
    {
      "cell_type": "markdown",
      "metadata": {
        "id": "riie22W5fAPp"
      },
      "source": [
        "### <font color=\"green\">1.2 Challenges</font>"
      ]
    },
    {
      "cell_type": "code",
      "metadata": {
        "id": "6RX6Fo4OfJrr",
        "outputId": "0314ba12-d69b-4718-dbc3-c52a2d9853a4",
        "colab": {
          "base_uri": "https://localhost:8080/"
        }
      },
      "source": [
        "# Challenge 1 \n",
        "# Using the kenyan_football_players dictionary let's stop the loop \n",
        "# before it continues iterating through all items\n",
        "# \n",
        "\n",
        "for x in kenyan_football_players:\n",
        "  print(x)\n",
        "  if (x == 'Michael Olunga'):\n",
        "    print('found him')\n",
        "    break"
      ],
      "execution_count": null,
      "outputs": [
        {
          "output_type": "stream",
          "text": [
            "Victor Wanyama\n",
            "Michael Olunga\n",
            "found him\n"
          ],
          "name": "stdout"
        }
      ]
    },
    {
      "cell_type": "code",
      "metadata": {
        "id": "1n5WSzLVfJUS",
        "outputId": "6897f7fc-984c-4929-a50e-64b283c18b84",
        "colab": {
          "base_uri": "https://localhost:8080/"
        }
      },
      "source": [
        "# Challenge 2\n",
        "# When you run the following code it should output\n",
        "# \"Sum of first 5 integers is: 15\"\n",
        "# Correct the following for loop and a add a break statement to ensure that the program gives out the correct output\n",
        "#\n",
        "\n",
        "numbers = [1, 2, 3, 4, 5, 6, 7, 8, 9] # Declaring the tuple\n",
        "num_sum = 0\n",
        "count = 0\n",
        "for y in numbers:\n",
        "    num_sum = num_sum + y\n",
        "    count = count + 1 \n",
        "    if count == 5:\n",
        "      break  \n",
        "        \n",
        "print(\"Sum of first \",count,\"integers is: \", num_sum)"
      ],
      "execution_count": null,
      "outputs": [
        {
          "output_type": "stream",
          "text": [
            "Sum of first  5 integers is:  15\n"
          ],
          "name": "stdout"
        }
      ]
    },
    {
      "cell_type": "code",
      "metadata": {
        "id": "j9Pkrkmz-rXk"
      },
      "source": [
        "# Example 3\n",
        "# Sarova Nairobi determines the price of admission based on the age of the guest. \n",
        "# Guests that are 2 years of age or less are admitted without charge. \n",
        "# Children between 3 and 12 years of age are charged Ksh. 15,000 a night. \n",
        "# Seniors aged 65 years and over are charged Ksh. 18,000 a night.\n",
        "# Admission for all other guests is Ksh. 25,000 a night.\n",
        "# Create a program that begins by reading the ages of all of the guests \n",
        "# in a group from the user, with ones age entered on each line. \n",
        "# The user will enter a blank line to indicate that there are no more guests in the group. \n",
        "# Then your program should display the admission cost for the group with an appropriate message. \n",
        "# The cost should be displayed using two decimal places. \n",
        "# NB: You should use a for loop and a break statement in your program.\n",
        "# \n",
        "OUR CODE GOES HERE"
      ],
      "execution_count": null,
      "outputs": []
    },
    {
      "cell_type": "markdown",
      "metadata": {
        "id": "c13xlVleK8Dd"
      },
      "source": [
        "## 1.3 The Continue Statement\n"
      ]
    },
    {
      "cell_type": "code",
      "metadata": {
        "id": "yyauW4_yurxI",
        "outputId": "cd07fa89-0676-416f-cc90-cfa2494cabee",
        "colab": {
          "base_uri": "https://localhost:8080/"
        }
      },
      "source": [
        "# Example 1\n",
        "# Using the continue statement we can stop the current iteration of the loop, \n",
        "# and continue with the next section of our code as shown\n",
        "#\n",
        "\n",
        "fruits = [\"dates\", \"coconut\", \"passion\"]\n",
        "\n",
        "for x in fruits:\n",
        "  if x == \"coconut\":\n",
        "    continue \n",
        "  print(x)"
      ],
      "execution_count": null,
      "outputs": [
        {
          "output_type": "stream",
          "text": [
            "dates\n",
            "passion\n"
          ],
          "name": "stdout"
        }
      ]
    },
    {
      "cell_type": "code",
      "metadata": {
        "id": "iSkeKb-Xuv_J",
        "outputId": "cee0dcaf-fbb9-46b7-c68f-23d3a70ff229",
        "colab": {
          "base_uri": "https://localhost:8080/"
        }
      },
      "source": [
        "# Example 2\n",
        "# Iterating over a string\n",
        "#\n",
        "\n",
        "for val in \"Moringa School\":\n",
        "    if val == \"i\":\n",
        "        continue\n",
        "    print(val)\n",
        "print(\"The end\")"
      ],
      "execution_count": null,
      "outputs": [
        {
          "output_type": "stream",
          "text": [
            "M\n",
            "o\n",
            "r\n",
            "n\n",
            "g\n",
            "a\n",
            " \n",
            "S\n",
            "c\n",
            "h\n",
            "o\n",
            "o\n",
            "l\n",
            "The end\n"
          ],
          "name": "stdout"
        }
      ]
    },
    {
      "cell_type": "code",
      "metadata": {
        "id": "GBPps-BAuvz3",
        "outputId": "aa05dd2c-2aa8-4633-9bf0-722d74f71102",
        "colab": {
          "base_uri": "https://localhost:8080/"
        }
      },
      "source": [
        "# Example 3\n",
        "# \n",
        "mobile_phone = [\"samsung\", \"doogee\", \"iphone\", \"wiko\", \"LG\", \"Panasonic\", \"Sony\"]\n",
        "\n",
        "for x in mobile_phone:  \n",
        "    if x == 'samsung' or x == 'iphone': \n",
        "         continue\n",
        "    print ('Checked Phone :', x) "
      ],
      "execution_count": null,
      "outputs": [
        {
          "output_type": "stream",
          "text": [
            "Checked Phone : doogee\n",
            "Checked Phone : wiko\n",
            "Checked Phone : LG\n",
            "Checked Phone : Panasonic\n",
            "Checked Phone : Sony\n"
          ],
          "name": "stdout"
        }
      ]
    },
    {
      "cell_type": "markdown",
      "metadata": {
        "id": "-WNVdamRfNnp"
      },
      "source": [
        "### <font color=\"green\">1.3 Challanges</font>"
      ]
    },
    {
      "cell_type": "code",
      "metadata": {
        "id": "wkJ2IECzfTXs",
        "outputId": "00641e13-32da-431e-9f14-803bf1782e6b",
        "colab": {
          "base_uri": "https://localhost:8080/"
        }
      },
      "source": [
        "# Challenge 1\n",
        "# Make changes to the code below to omit the month of July and August\n",
        "# while displaying the no. of months\n",
        "#\n",
        "\n",
        "months = [\"January \",\"February\",\"March\", \"April\", \"May\", \"June\", \"July\", \"August\", \"September\", \"October\", \"November\", \"December\"]\n",
        "\n",
        "count = 0\n",
        "for m in months:\n",
        "\t\n",
        "\tif m == 'July' or m == 'August':\n",
        "\t\tcontinue\n",
        "\tcount = count +1\n",
        "\tprint(m)\n",
        "print (count)\n",
        "\t\n",
        "\t\n",
        "    "
      ],
      "execution_count": null,
      "outputs": [
        {
          "output_type": "stream",
          "text": [
            "January \n",
            "February\n",
            "March\n",
            "April\n",
            "May\n",
            "June\n",
            "September\n",
            "October\n",
            "November\n",
            "December\n",
            "10\n"
          ],
          "name": "stdout"
        }
      ]
    },
    {
      "cell_type": "code",
      "metadata": {
        "id": "KtMFjXBY-dfK",
        "outputId": "e1e78aae-4f71-40d1-ac48-73ac3523d630",
        "colab": {
          "base_uri": "https://localhost:8080/"
        }
      },
      "source": [
        "# Challenge 2\n",
        "# Let's print out a word if it doesn't have the letter \"e\"\n",
        "# Use the continue statement in your program\n",
        "#sorted fnct\n",
        "\n",
        "names = ['Jane', 'June', 'Thomas']\n",
        "\n",
        "for w in names:\n",
        "  if \"e\" not in w:\n",
        "    print(w)\n",
        "    continue\n"
      ],
      "execution_count": null,
      "outputs": [
        {
          "output_type": "stream",
          "text": [
            "Thomas\n"
          ],
          "name": "stdout"
        }
      ]
    },
    {
      "cell_type": "code",
      "metadata": {
        "id": "q0l2yI2RfT4v",
        "outputId": "d4c3733e-23c7-48c0-bbcc-894b93a48d0a",
        "colab": {
          "base_uri": "https://localhost:8080/"
        }
      },
      "source": [
        "# Challenge 3\n",
        "# Given the numbers list below, print out the even numbers using the continue statement\n",
        "# Hint: use modulo %\n",
        "# \n",
        "\n",
        "numbers = [1, 2, 3, 4, 5, 6, 7, 8, 9, 10]\n",
        "\n",
        "for num in numbers:\n",
        "  if num%2 !=0:\n",
        "    continue\n",
        "  print(num)\n"
      ],
      "execution_count": null,
      "outputs": [
        {
          "output_type": "stream",
          "text": [
            "2\n",
            "4\n",
            "6\n",
            "8\n",
            "10\n"
          ],
          "name": "stdout"
        }
      ]
    },
    {
      "cell_type": "markdown",
      "metadata": {
        "id": "m-WluVZoLBie"
      },
      "source": [
        "## 1.4 The Range() Function"
      ]
    },
    {
      "cell_type": "code",
      "metadata": {
        "id": "-ku-JJLqvMql",
        "outputId": "f7c5ef5f-cd57-40df-e8b8-55e67dafba58",
        "colab": {
          "base_uri": "https://localhost:8080/"
        }
      },
      "source": [
        "# Example 1\n",
        "# We iterate through a set of code a specified number of times using the range() function.\n",
        "# Let's create a sequence of numbers from 0 to 5, and print each item in the sequence:\n",
        "# \n",
        "\n",
        "for x in range(6):\n",
        "  print(x)"
      ],
      "execution_count": null,
      "outputs": [
        {
          "output_type": "stream",
          "text": [
            "0\n",
            "1\n",
            "2\n",
            "3\n",
            "4\n",
            "5\n"
          ],
          "name": "stdout"
        }
      ]
    },
    {
      "cell_type": "code",
      "metadata": {
        "id": "OZU30VcZvNEz",
        "outputId": "5d960d0b-a19c-4171-fbf6-5c9f1df5fa3c",
        "colab": {
          "base_uri": "https://localhost:8080/"
        }
      },
      "source": [
        "# Example 2\n",
        "# What happens when we have two parameters?\n",
        "# \n",
        "\n",
        "for i in range(3, 9):\n",
        "  print(i)"
      ],
      "execution_count": null,
      "outputs": [
        {
          "output_type": "stream",
          "text": [
            "3\n",
            "4\n",
            "5\n",
            "6\n",
            "7\n",
            "8\n"
          ],
          "name": "stdout"
        }
      ]
    },
    {
      "cell_type": "code",
      "metadata": {
        "id": "zDeGNzOYfnRY",
        "outputId": "2bf0e97c-3704-4d60-c57b-0f499f8df163",
        "colab": {
          "base_uri": "https://localhost:8080/"
        }
      },
      "source": [
        "# Example 3\n",
        "# What happens when we have three parameters as shown?\n",
        "# \n",
        "\n",
        "for i in range(1, 20, 3):\n",
        "  print(i)"
      ],
      "execution_count": null,
      "outputs": [
        {
          "output_type": "stream",
          "text": [
            "1\n",
            "4\n",
            "7\n",
            "10\n",
            "13\n",
            "16\n",
            "19\n"
          ],
          "name": "stdout"
        }
      ]
    },
    {
      "cell_type": "markdown",
      "metadata": {
        "id": "NRUCsmwqfo0J"
      },
      "source": [
        "### <font color=\"green\">1.4 Challenges</font>"
      ]
    },
    {
      "cell_type": "code",
      "metadata": {
        "id": "TZKFNrFCfwGS",
        "outputId": "c698481a-7be4-479b-cd20-e42b9ab7ef40",
        "colab": {
          "base_uri": "https://localhost:8080/"
        }
      },
      "source": [
        "# Challenge 1\n",
        "# Create a sequence of numbers from 3 to 61, but increment by 5:\n",
        "#\n",
        "\n",
        "for n in range(3,62,5):\n",
        "  print(n)"
      ],
      "execution_count": null,
      "outputs": [
        {
          "output_type": "stream",
          "text": [
            "3\n",
            "8\n",
            "13\n",
            "18\n",
            "23\n",
            "28\n",
            "33\n",
            "38\n",
            "43\n",
            "48\n",
            "53\n",
            "58\n"
          ],
          "name": "stdout"
        }
      ]
    },
    {
      "cell_type": "code",
      "metadata": {
        "id": "F8rbA9pHfxJ-",
        "outputId": "218f94a5-e544-4505-a2c2-af6699482171",
        "colab": {
          "base_uri": "https://localhost:8080/"
        }
      },
      "source": [
        "# Challenge 2\n",
        "# Create a program that prints out the even numbers within\n",
        "# the range of 1 - 20\n",
        "# \n",
        "\n",
        "for n in range(1,21):\n",
        "  if n%2 != 0:\n",
        "    continue\n",
        "  print(n)"
      ],
      "execution_count": null,
      "outputs": [
        {
          "output_type": "stream",
          "text": [
            "2\n",
            "4\n",
            "6\n",
            "8\n",
            "10\n",
            "12\n",
            "14\n",
            "16\n",
            "18\n",
            "20\n"
          ],
          "name": "stdout"
        }
      ]
    },
    {
      "cell_type": "code",
      "metadata": {
        "id": "NtPwdcNHfw7a",
        "outputId": "2a31f852-697e-4a72-fb20-e274922cc6c8",
        "colab": {
          "base_uri": "https://localhost:8080/"
        }
      },
      "source": [
        "# Challenge 3\n",
        "# Create a sequence of numbers from 5 to -30, decrementing by 5\n",
        "# the range of 1 - 20\n",
        "#\n",
        "\n",
        "for n in range(5,-31,-5):\n",
        "  print(n)"
      ],
      "execution_count": null,
      "outputs": [
        {
          "output_type": "stream",
          "text": [
            "5\n",
            "0\n",
            "-5\n",
            "-10\n",
            "-15\n",
            "-20\n",
            "-25\n",
            "-30\n"
          ],
          "name": "stdout"
        }
      ]
    },
    {
      "cell_type": "markdown",
      "metadata": {
        "id": "pt06jAbBLK7j"
      },
      "source": [
        "## 1.5 Else"
      ]
    },
    {
      "cell_type": "code",
      "metadata": {
        "id": "VXM0D76BvgnX",
        "outputId": "33b5d8a6-c021-493b-cd4b-e79659d1a8d1",
        "colab": {
          "base_uri": "https://localhost:8080/"
        }
      },
      "source": [
        "# Example 1\n",
        "# When the loop condition of \"for\" or \"while\" statement fails \n",
        "# then code part in \"else\" is executed as shown below\n",
        "#\n",
        "\n",
        "for x in range(6):\n",
        "  print(x)\n",
        "else:\n",
        "  print(\"Finished!\")"
      ],
      "execution_count": null,
      "outputs": [
        {
          "output_type": "stream",
          "text": [
            "0\n",
            "1\n",
            "2\n",
            "3\n",
            "4\n",
            "5\n",
            "Finished!\n"
          ],
          "name": "stdout"
        }
      ]
    },
    {
      "cell_type": "code",
      "metadata": {
        "id": "r04iCfO3hOWp",
        "outputId": "639dd926-be22-4459-a49b-c311ae08c05d",
        "colab": {
          "base_uri": "https://localhost:8080/"
        }
      },
      "source": [
        "# Example 2\n",
        "# In this example the code in the else block runs only \n",
        "# if the loop completes without encountering a break statement.\n",
        "#\n",
        "\n",
        "for i in range(3):\n",
        "    password = input('Enter your password: ')\n",
        "    if password == 'secret':\n",
        "        print('You have guessed the password!')\n",
        "        break\n",
        "else:\n",
        "    print('You have made 3 incorrect password attempts')"
      ],
      "execution_count": null,
      "outputs": [
        {
          "output_type": "stream",
          "text": [
            "Enter your password: das\n",
            "Enter your password: secRet\n",
            "Enter your password: secret\n",
            "You have guessed the password!\n"
          ],
          "name": "stdout"
        }
      ]
    },
    {
      "cell_type": "markdown",
      "metadata": {
        "id": "1ChnVcJNhUmi"
      },
      "source": [
        "### <font color=\"green\">1.5 Challanges</font>"
      ]
    },
    {
      "cell_type": "code",
      "metadata": {
        "id": "0ud2urSmhbxq",
        "outputId": "d0bf91a2-a120-4736-d76e-fd72cbc8120f",
        "colab": {
          "base_uri": "https://localhost:8080/"
        }
      },
      "source": [
        "# Challenge 1\n",
        "# Let us iterate through and print out all even numbers from the numbers list below \n",
        "# in the same order they are received. We are not allowed toprint any numbers \n",
        "# that come after 237 in the sequence.\n",
        "# \n",
        "\n",
        "numbers = [ 951, 402, 984, 651, 360, 69, 408, 319, 601, 485, 980, 507, 725, 547, 544,\n",
        "    615, 83, 165, 141, 501, 263, 617, 865, 575, 219, 390, 984, 592, 236, 105, 942, 941,\n",
        "    386, 462, 47, 418, 907, 344, 236, 375, 823, 566, 597, 978, 328, 615, 953, 345,\n",
        "    399, 162, 758, 219, 918, 237, 412, 566, 826, 248, 866, 950, 626, 949, 687, 217,\n",
        "    815, 67, 104, 58, 512, 24, 892, 894, 767, 553, 81, 379, 843, 831, 445, 742, 717,\n",
        "    958, 609, 842, 451, 688, 753, 854, 685, 93, 857, 440, 380, 126, 721, 328, 753, 470,\n",
        "    743, 527\n",
        "]\n",
        "\n",
        "for n in numbers:\n",
        "  if n == 237:\n",
        "    break \n",
        "  elif n%2 != 0:\n",
        "    continue\n",
        "  print(n)\n",
        "  "
      ],
      "execution_count": null,
      "outputs": [
        {
          "output_type": "stream",
          "text": [
            "402\n",
            "984\n",
            "360\n",
            "408\n",
            "980\n",
            "544\n",
            "390\n",
            "984\n",
            "592\n",
            "236\n",
            "942\n",
            "386\n",
            "462\n",
            "418\n",
            "344\n",
            "236\n",
            "566\n",
            "978\n",
            "328\n",
            "162\n",
            "758\n",
            "918\n"
          ],
          "name": "stdout"
        }
      ]
    },
    {
      "cell_type": "code",
      "metadata": {
        "id": "1D2wI6Lyhcai"
      },
      "source": [
        "# Challenge 2\n",
        "# Write a program to find whether there is a word with the letter z from the list below\n",
        "#\n",
        "\n",
        "my_list = [\"bawk\", \"bagawk\", \"a\", \"aa\", \"aah\", \"aahed\", \"aahing\", \"aahs\", \"aal\", \"aalii\", \n",
        "           \"aaliis\", \"aals\", \"aardvark\", \"aardvarks\", \"aardwolf\", \"aardwolves\", \"aargh\", \n",
        "           \"aarrgh\", \"aarrghh\", \"aarti\", \"aartis\", \"aas\", \"aasvogel\"]\n",
        "\n",
        "OUR CODE GOES HERE"
      ],
      "execution_count": null,
      "outputs": []
    },
    {
      "cell_type": "markdown",
      "metadata": {
        "id": "ACouIUA4LUqe"
      },
      "source": [
        "## 1.6 Nested For Loops"
      ]
    },
    {
      "cell_type": "code",
      "metadata": {
        "id": "b8pUqp5qvjVV",
        "outputId": "8119c8ea-7834-46dc-d868-4555c3167b84",
        "colab": {
          "base_uri": "https://localhost:8080/"
        }
      },
      "source": [
        "# Example 1\n",
        "# You can use a loop inside another loop as shown below \n",
        "#\n",
        "\n",
        "adj = [\"red\", \"big\", \"tasty\"]\n",
        "fruits = [\"apple\", \"banana\", \"cherry\"]\n",
        "\n",
        "for x in adj:\n",
        "  for y in fruits:\n",
        "    print(x, y)"
      ],
      "execution_count": null,
      "outputs": [
        {
          "output_type": "stream",
          "text": [
            "red apple\n",
            "red banana\n",
            "red cherry\n",
            "big apple\n",
            "big banana\n",
            "big cherry\n",
            "tasty apple\n",
            "tasty banana\n",
            "tasty cherry\n"
          ],
          "name": "stdout"
        }
      ]
    },
    {
      "cell_type": "code",
      "metadata": {
        "id": "NvXrjhQPhlhk",
        "outputId": "b89c6486-a89a-4ba5-c08f-8e182a89f394",
        "colab": {
          "base_uri": "https://localhost:8080/"
        }
      },
      "source": [
        "# Example 2\n",
        "# Iterating over multi dimension list i.e. lists in a list\n",
        "#\n",
        "\n",
        "# Creating a persons list\n",
        "persons = [['Monica', 40], ['Mary', 15], ['Miriam', 20]]\n",
        "  \n",
        "for person in persons: \n",
        "  for value in person: \n",
        "    print(value)"
      ],
      "execution_count": null,
      "outputs": [
        {
          "output_type": "stream",
          "text": [
            "Monica\n",
            "40\n",
            "Mary\n",
            "15\n",
            "Miriam\n",
            "20\n"
          ],
          "name": "stdout"
        }
      ]
    },
    {
      "cell_type": "markdown",
      "metadata": {
        "id": "enm2AB_bhl6P"
      },
      "source": [
        "### <font color=\"green\">1.6 Challenges</font>"
      ]
    },
    {
      "cell_type": "code",
      "metadata": {
        "id": "0mfvv99nhsAb",
        "outputId": "08cf9c2b-b82e-48a0-a63c-32d2d7fbd06f",
        "colab": {
          "base_uri": "https://localhost:8080/"
        }
      },
      "source": [
        "# Challenge 1\n",
        "# Iterate through the list of integers. In the outer loop, iterate through the numbers_list  \n",
        "# and iterate through strings_list in the inner loop. \n",
        "# printing out 1 a b c 2 a b c 3 a b c\n",
        "#\n",
        "\n",
        "# Creating our lists\n",
        "numbers_list = [1, 2, 3]\n",
        "strings_list = ['a', 'b', 'c']\n",
        "\n",
        "for num in numbers_list:\n",
        "  for w in strings_list:\n",
        "    print(num,w)"
      ],
      "execution_count": null,
      "outputs": [
        {
          "output_type": "stream",
          "text": [
            "1 a\n",
            "1 b\n",
            "1 c\n",
            "2 a\n",
            "2 b\n",
            "2 c\n",
            "3 a\n",
            "3 b\n",
            "3 c\n"
          ],
          "name": "stdout"
        }
      ]
    },
    {
      "cell_type": "code",
      "metadata": {
        "id": "gGHGio0bhvTf",
        "outputId": "c3f545c5-9909-49df-c313-124baf345701",
        "colab": {
          "base_uri": "https://localhost:8080/"
        }
      },
      "source": [
        "# Challenge 2\n",
        "# Modify the code below to print out number of cars each of the billionares has \n",
        "# indexing\n",
        "\n",
        "# Creating our lists\n",
        "billionares = ['Jeff','Samuel','Donnah']       \n",
        "cars = ['mercedes','porshe','hyundai'] \n",
        "numbers = [55, 24, 30]\n",
        "\n",
        "for m in range(0,3):\n",
        "  for x in billionares:\n",
        "    if x == billionares[m]:\n",
        "      \n",
        "      for nums in cars:\n",
        "        if nums != cars[m]:\n",
        "          continue\n",
        "        \n",
        "        if nums == cars[m]:\n",
        "          \n",
        "          for c in numbers:\n",
        "            if c != numbers[m]:\n",
        "              continue\n",
        "            if c == numbers[m]:\n",
        "              print(x, \" has \", str(c),str(nums) , 'cars' ) \n",
        "\n",
        "\n"
      ],
      "execution_count": null,
      "outputs": [
        {
          "output_type": "stream",
          "text": [
            "Jeff  has  55 mercedes cars\n",
            "Samuel  has  24 porshe cars\n",
            "Donnah  has  30 hyundai cars\n"
          ],
          "name": "stdout"
        }
      ]
    },
    {
      "cell_type": "code",
      "metadata": {
        "id": "wgW0ppZ_WtVw",
        "outputId": "a6d4f37f-32ed-4f5f-d1a6-0cd0bb273454",
        "colab": {
          "base_uri": "https://localhost:8080/"
        }
      },
      "source": [
        "# Challenge 3\n",
        "# Come up with of a question you can ask your friends. \n",
        "# Create a dictionary where each key is a person's name, \n",
        "# and each value is that person's response to your question.\n",
        "# Store more three thn responses in your dictionary \n",
        "# and use a for loop to print out each person's response\n",
        "#what's your favourite car?\n",
        "\n",
        "ans ={'kim': 'lexus', 'dave':'bentley', 'sheila': 'cadillac', 'allan': 'bugatti'}\n",
        "\n",
        "for a,b in ans.items():\n",
        "  print(a,b)\n"
      ],
      "execution_count": null,
      "outputs": [
        {
          "output_type": "stream",
          "text": [
            "kim lexus\n",
            "dave bentley\n",
            "sheila cadillac\n",
            "allan bugatti\n"
          ],
          "name": "stdout"
        }
      ]
    },
    {
      "cell_type": "code",
      "metadata": {
        "id": "5iSo2oxv12Ln"
      },
      "source": [
        ""
      ],
      "execution_count": null,
      "outputs": []
    }
  ]
}