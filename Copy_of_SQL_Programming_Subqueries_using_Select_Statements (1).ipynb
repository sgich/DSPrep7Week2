{
  "nbformat": 4,
  "nbformat_minor": 0,
  "metadata": {
    "colab": {
      "name": "Copy of SQL Programming -  Subqueries using Select Statements",
      "provenance": [],
      "collapsed_sections": []
    },
    "kernelspec": {
      "name": "python3",
      "display_name": "Python 3"
    }
  },
  "cells": [
    {
      "cell_type": "markdown",
      "metadata": {
        "id": "v7SpgjvSlIoR"
      },
      "source": [
        "<font color=\"green\">*To start working on this notebook, or any other notebook that we will use in the Moringa Data Science Course, we will need to save our own copy of it. We can do this by clicking File > Save a Copy in Drive. We will then be able to make edits to our own copy of this notebook.*</font>"
      ]
    },
    {
      "cell_type": "markdown",
      "metadata": {
        "id": "LtFx0bBdlL-n"
      },
      "source": [
        "# SQL Programming - Subqueries using Select Statements"
      ]
    },
    {
      "cell_type": "markdown",
      "metadata": {
        "id": "mlCS9-zslSwf"
      },
      "source": [
        "## 1.0 Connecting to our Database"
      ]
    },
    {
      "cell_type": "code",
      "metadata": {
        "id": "cEeocMxvnZwS",
        "outputId": "df556fce-cd18-4216-ded2-871582535a40",
        "colab": {
          "base_uri": "https://localhost:8080/"
        }
      },
      "source": [
        "# We will first load the sql extension into our environment\n",
        "%load_ext sql\n",
        "\n",
        "# Then connect to our in memory sqlite database\n",
        "# NB: This database will cease to exist as soon as the database connection is closed. \n",
        "%sql sqlite://"
      ],
      "execution_count": null,
      "outputs": [
        {
          "output_type": "execute_result",
          "data": {
            "application/vnd.google.colaboratory.intrinsic+json": {
              "type": "string"
            },
            "text/plain": [
              "'Connected: @None'"
            ]
          },
          "metadata": {
            "tags": []
          },
          "execution_count": 1
        }
      ]
    },
    {
      "cell_type": "markdown",
      "metadata": {
        "id": "lLI1zQYqlVlt"
      },
      "source": [
        "## 1.1 Loading Data from CSV Files"
      ]
    },
    {
      "cell_type": "markdown",
      "metadata": {
        "id": "tNUsWoeTWn_f"
      },
      "source": [
        "Datasets used in this notebook:\n",
        "\n",
        "\n",
        "1.   **World Countries**\n",
        "\n",
        "> ([Dataset Download Link](https://drive.google.com/a/moringaschool.com/file/d/1XlabneVWhvbmpRUi_Wix2FR5uYAAp-ZY/view?usp=sharing))\n",
        "\n",
        "2.   **World Cities** \n",
        "\n",
        "> ([Dataset Download Link](https://drive.google.com/a/moringaschool.com/file/d/1R5952m-8hH91uiwDK8dcL9sT2D_PEcuw/view?usp=sharing))\n",
        "\n",
        "\n",
        "\n",
        "\n"
      ]
    },
    {
      "cell_type": "code",
      "metadata": {
        "id": "jryiwN6GiqoT"
      },
      "source": [
        "# Importing Pandas\n",
        "import pandas as pd"
      ],
      "execution_count": null,
      "outputs": []
    },
    {
      "cell_type": "code",
      "metadata": {
        "id": "gnuy0grfirgn",
        "outputId": "84424443-1e38-42bc-d0f5-5e45cd4f1bfb",
        "colab": {
          "base_uri": "https://localhost:8080/"
        }
      },
      "source": [
        "# Loading our Countries dataset\n",
        "# \n",
        "with open('world_countries.csv','r') as f:\n",
        "    world_countries = pd.read_csv(f, index_col=0, encoding='utf-8')\n",
        "%sql DROP TABLE if EXISTS world_countries;\n",
        "%sql PERSIST world_countries;\n",
        "%sql SELECT * FROM world_countries LIMIT 5;"
      ],
      "execution_count": null,
      "outputs": [
        {
          "output_type": "stream",
          "text": [
            " * sqlite://\n",
            "Done.\n",
            " * sqlite://\n",
            " * sqlite://\n",
            "Done.\n"
          ],
          "name": "stdout"
        },
        {
          "output_type": "execute_result",
          "data": {
            "text/html": [
              "<table>\n",
              "    <tr>\n",
              "        <th>country</th>\n",
              "        <th>population</th>\n",
              "        <th>EU</th>\n",
              "        <th>coastline</th>\n",
              "    </tr>\n",
              "    <tr>\n",
              "        <td>Albania</td>\n",
              "        <td>2.9</td>\n",
              "        <td>no</td>\n",
              "        <td>yes</td>\n",
              "    </tr>\n",
              "    <tr>\n",
              "        <td>Andorra</td>\n",
              "        <td>0.07</td>\n",
              "        <td>no</td>\n",
              "        <td>no</td>\n",
              "    </tr>\n",
              "    <tr>\n",
              "        <td>Austria</td>\n",
              "        <td>8.57</td>\n",
              "        <td>yes</td>\n",
              "        <td>no</td>\n",
              "    </tr>\n",
              "    <tr>\n",
              "        <td>Belarus</td>\n",
              "        <td>9.48</td>\n",
              "        <td>no</td>\n",
              "        <td>no</td>\n",
              "    </tr>\n",
              "    <tr>\n",
              "        <td>Belgium</td>\n",
              "        <td>11.37</td>\n",
              "        <td>yes</td>\n",
              "        <td>yes</td>\n",
              "    </tr>\n",
              "</table>"
            ],
            "text/plain": [
              "[('Albania', 2.9, 'no', 'yes'),\n",
              " ('Andorra', 0.07, 'no', 'no'),\n",
              " ('Austria', 8.57, 'yes', 'no'),\n",
              " ('Belarus', 9.48, 'no', 'no'),\n",
              " ('Belgium', 11.37, 'yes', 'yes')]"
            ]
          },
          "metadata": {
            "tags": []
          },
          "execution_count": 3
        }
      ]
    },
    {
      "cell_type": "code",
      "metadata": {
        "id": "Nl8AVi1OyUmm",
        "outputId": "64cb8c47-e60b-42da-944b-f705e385d8fe",
        "colab": {
          "base_uri": "https://localhost:8080/"
        }
      },
      "source": [
        "# Loading our cities dataset \n",
        "# \n",
        "with open('world_cities.csv', 'r') as f:\n",
        "  world_cities = pd.read_csv(f, index_col=0, encoding='utf-8')\n",
        "%sql Drop table if exists world_cities;\n",
        "%sql Persist world_cities;\n",
        "%sql Select * from world_cities limit 5;"
      ],
      "execution_count": null,
      "outputs": [
        {
          "output_type": "stream",
          "text": [
            " * sqlite://\n",
            "Done.\n",
            " * sqlite://\n",
            " * sqlite://\n",
            "Done.\n"
          ],
          "name": "stdout"
        },
        {
          "output_type": "execute_result",
          "data": {
            "text/html": [
              "<table>\n",
              "    <tr>\n",
              "        <th>city</th>\n",
              "        <th>country</th>\n",
              "        <th>latitude</th>\n",
              "        <th>longitude</th>\n",
              "        <th>temperature</th>\n",
              "    </tr>\n",
              "    <tr>\n",
              "        <td>Aalborg</td>\n",
              "        <td>Denmark</td>\n",
              "        <td>57.03</td>\n",
              "        <td>9.92</td>\n",
              "        <td>7.52</td>\n",
              "    </tr>\n",
              "    <tr>\n",
              "        <td>Aberdeen</td>\n",
              "        <td>United Kingdom</td>\n",
              "        <td>57.17</td>\n",
              "        <td>-2.08</td>\n",
              "        <td>8.1</td>\n",
              "    </tr>\n",
              "    <tr>\n",
              "        <td>Abisko</td>\n",
              "        <td>Sweden</td>\n",
              "        <td>63.35</td>\n",
              "        <td>18.83</td>\n",
              "        <td>0.2</td>\n",
              "    </tr>\n",
              "    <tr>\n",
              "        <td>Adana</td>\n",
              "        <td>Turkey</td>\n",
              "        <td>36.99</td>\n",
              "        <td>35.32</td>\n",
              "        <td>18.67</td>\n",
              "    </tr>\n",
              "    <tr>\n",
              "        <td>Albacete</td>\n",
              "        <td>Spain</td>\n",
              "        <td>39.0</td>\n",
              "        <td>-1.87</td>\n",
              "        <td>12.62</td>\n",
              "    </tr>\n",
              "</table>"
            ],
            "text/plain": [
              "[('Aalborg', 'Denmark', 57.03, 9.92, 7.52),\n",
              " ('Aberdeen', 'United Kingdom', 57.17, -2.08, 8.1),\n",
              " ('Abisko', 'Sweden', 63.35, 18.83, 0.2),\n",
              " ('Adana', 'Turkey', 36.99, 35.32, 18.67),\n",
              " ('Albacete', 'Spain', 39.0, -1.87, 12.62)]"
            ]
          },
          "metadata": {
            "tags": []
          },
          "execution_count": 4
        }
      ]
    },
    {
      "cell_type": "markdown",
      "metadata": {
        "id": "LEAwY5fwleiu"
      },
      "source": [
        "## 1.2 Subqueries using the SELECT statement"
      ]
    },
    {
      "cell_type": "markdown",
      "metadata": {
        "id": "xgcGBkvuA3V0"
      },
      "source": [
        "A subquery is a query within another query. The outer query is called as main query and inner query is called as subquery. The subquery must be enclosed with parenthesis and generally executes first, and its output is used to complete the query condition for the main or outer query. We will go through examples of how subqueries can be used to answers different types of questions then later, we will use our learnings to work on the challenges."
      ]
    },
    {
      "cell_type": "code",
      "metadata": {
        "id": "--LbGFNOnbTx",
        "outputId": "2f78c97c-101d-42ef-ca52-4f961a4ca43f",
        "colab": {
          "base_uri": "https://localhost:8080/",
          "height": 179
        }
      },
      "source": [
        "# Example 1\n",
        "# Subqueries can occur in the select list of the containing query\n",
        "# as shown below;\n",
        "# Let's find all countries in the Countries table with no city in the Cities table\n",
        "# \n",
        "%%sql\n",
        "SELECT country FROM world_countries\n",
        "WHERE NOT EXISTS (SELECT * FROM world_cities\n",
        "                  WHERE world_cities.country = world_countries.country) \n"
      ],
      "execution_count": null,
      "outputs": [
        {
          "output_type": "stream",
          "text": [
            " * sqlite://\n",
            "Done.\n"
          ],
          "name": "stdout"
        },
        {
          "output_type": "execute_result",
          "data": {
            "text/html": [
              "<table>\n",
              "    <tr>\n",
              "        <th>country</th>\n",
              "    </tr>\n",
              "    <tr>\n",
              "        <td>Cyprus</td>\n",
              "    </tr>\n",
              "    <tr>\n",
              "        <td>Iceland</td>\n",
              "    </tr>\n",
              "    <tr>\n",
              "        <td>Kosovo</td>\n",
              "    </tr>\n",
              "    <tr>\n",
              "        <td>Liechtenstein</td>\n",
              "    </tr>\n",
              "    <tr>\n",
              "        <td>Luxembourg</td>\n",
              "    </tr>\n",
              "</table>"
            ],
            "text/plain": [
              "[('Cyprus',), ('Iceland',), ('Kosovo',), ('Liechtenstein',), ('Luxembourg',)]"
            ]
          },
          "metadata": {
            "tags": []
          },
          "execution_count": 10
        }
      ]
    },
    {
      "cell_type": "code",
      "metadata": {
        "id": "8XqiW-Q8ndKT",
        "outputId": "4a86efaa-2be0-499b-9a03-21cb4200ce77",
        "colab": {
          "base_uri": "https://localhost:8080/",
          "height": 158
        }
      },
      "source": [
        "# Example 2\n",
        "# Find the European countries with cities experiencing temperature > 20?\n",
        "# \n",
        "%%sql\n",
        "SELECT country FROM world_countries\n",
        "WHERE EU = 'yes'\n",
        "AND EXISTS (SELECT * FROM world_cities\n",
        "            WHERE world_cities.country = world_countries.country\n",
        "            AND temperature > 15)"
      ],
      "execution_count": null,
      "outputs": [
        {
          "output_type": "stream",
          "text": [
            " * sqlite://\n",
            "Done.\n"
          ],
          "name": "stdout"
        },
        {
          "output_type": "execute_result",
          "data": {
            "text/html": [
              "<table>\n",
              "    <tr>\n",
              "        <th>country</th>\n",
              "    </tr>\n",
              "    <tr>\n",
              "        <td>Greece</td>\n",
              "    </tr>\n",
              "    <tr>\n",
              "        <td>Italy</td>\n",
              "    </tr>\n",
              "    <tr>\n",
              "        <td>Portugal</td>\n",
              "    </tr>\n",
              "    <tr>\n",
              "        <td>Spain</td>\n",
              "    </tr>\n",
              "</table>"
            ],
            "text/plain": [
              "[('Greece',), ('Italy',), ('Portugal',), ('Spain',)]"
            ]
          },
          "metadata": {
            "tags": []
          },
          "execution_count": 12
        }
      ]
    },
    {
      "cell_type": "code",
      "metadata": {
        "id": "ocuJ_kB4nd3z",
        "outputId": "7f72e2c9-fb72-46d8-bfb6-282c9f1153b5",
        "colab": {
          "base_uri": "https://localhost:8080/",
          "height": 95
        }
      },
      "source": [
        "# Example 3: Method 1\n",
        "# Find the westernmost city, returning the city and longitude\n",
        "# \n",
        "\n",
        "%%sql\n",
        "SELECT city, longitude FROM world_cities C1\n",
        "WHERE NOT EXISTS (SELECT * FROM world_cities C2\n",
        "                  WHERE C2.longitude < C1.longitude)"
      ],
      "execution_count": null,
      "outputs": [
        {
          "output_type": "stream",
          "text": [
            " * sqlite://\n",
            "Done.\n"
          ],
          "name": "stdout"
        },
        {
          "output_type": "execute_result",
          "data": {
            "text/html": [
              "<table>\n",
              "    <tr>\n",
              "        <th>city</th>\n",
              "        <th>longitude</th>\n",
              "    </tr>\n",
              "    <tr>\n",
              "        <td>Lisbon</td>\n",
              "        <td>-9.14</td>\n",
              "    </tr>\n",
              "</table>"
            ],
            "text/plain": [
              "[('Lisbon', -9.14)]"
            ]
          },
          "metadata": {
            "tags": []
          },
          "execution_count": 21
        }
      ]
    },
    {
      "cell_type": "code",
      "metadata": {
        "id": "MQCaPcMQ5pDl",
        "outputId": "86fe14db-5e0d-444b-b903-9bb0bb2ffd60",
        "colab": {
          "base_uri": "https://localhost:8080/",
          "height": 95
        }
      },
      "source": [
        "# Example 3: Method 2\n",
        "# Find the westernmost city, returning the city and longitude\n",
        "# \n",
        "%%sql\n",
        "SELECT city, longitude\n",
        "FROM world_cities\n",
        "WHERE longitude = (SELECT min(longitude) FROM world_cities)"
      ],
      "execution_count": null,
      "outputs": [
        {
          "output_type": "stream",
          "text": [
            " * sqlite://\n",
            "Done.\n"
          ],
          "name": "stdout"
        },
        {
          "output_type": "execute_result",
          "data": {
            "text/html": [
              "<table>\n",
              "    <tr>\n",
              "        <th>city</th>\n",
              "        <th>longitude</th>\n",
              "    </tr>\n",
              "    <tr>\n",
              "        <td>Lisbon</td>\n",
              "        <td>-9.14</td>\n",
              "    </tr>\n",
              "</table>"
            ],
            "text/plain": [
              "[('Lisbon', -9.14)]"
            ]
          },
          "metadata": {
            "tags": []
          },
          "execution_count": 11
        }
      ]
    },
    {
      "cell_type": "code",
      "metadata": {
        "id": "KL5VFl2x7kLZ",
        "outputId": "e6bf02ce-9745-4bf4-d330-7a1ecccd85ef",
        "colab": {
          "base_uri": "https://localhost:8080/",
          "height": 95
        }
      },
      "source": [
        "# Example 4:\n",
        "# How many cities are in the EU?\n",
        "# \n",
        "%%sql\n",
        "SELECT count(city)\n",
        "FROM world_cities\n",
        "WHERE country IN (SELECT country FROM world_countries WHERE EU = 'yes')"
      ],
      "execution_count": null,
      "outputs": [
        {
          "output_type": "stream",
          "text": [
            " * sqlite://\n",
            "Done.\n"
          ],
          "name": "stdout"
        },
        {
          "output_type": "execute_result",
          "data": {
            "text/html": [
              "<table>\n",
              "    <tr>\n",
              "        <th>count(city)</th>\n",
              "    </tr>\n",
              "    <tr>\n",
              "        <td>150</td>\n",
              "    </tr>\n",
              "</table>"
            ],
            "text/plain": [
              "[(150,)]"
            ]
          },
          "metadata": {
            "tags": []
          },
          "execution_count": 88
        }
      ]
    },
    {
      "cell_type": "markdown",
      "metadata": {
        "id": "d1czA9cCnfki"
      },
      "source": [
        "### <font color=\"green\">1.2 Challenges</font>"
      ]
    },
    {
      "cell_type": "code",
      "metadata": {
        "id": "BpOpH-fznpo2",
        "outputId": "5a092185-ced1-4948-e826-72307f1d10a0",
        "colab": {
          "base_uri": "https://localhost:8080/",
          "height": 95
        }
      },
      "source": [
        "# Challenge 1\n",
        "# Find number of countries that have a city with latitude > 1000 (start with country list)\n",
        "# \n",
        "\n",
        "\n",
        "%%sql\n",
        "Select Count(country)\n",
        "from world_countries\n",
        "Where country in (Select country from world_cities) where latitude > 10 )"
      ],
      "execution_count": null,
      "outputs": [
        {
          "output_type": "stream",
          "text": [
            " * sqlite://\n",
            "Done.\n"
          ],
          "name": "stdout"
        },
        {
          "output_type": "execute_result",
          "data": {
            "text/html": [
              "<table>\n",
              "    <tr>\n",
              "        <th>Count(country)</th>\n",
              "    </tr>\n",
              "    <tr>\n",
              "        <td>37</td>\n",
              "    </tr>\n",
              "</table>"
            ],
            "text/plain": [
              "[(37,)]"
            ]
          },
          "metadata": {
            "tags": []
          },
          "execution_count": 25
        }
      ]
    },
    {
      "cell_type": "code",
      "metadata": {
        "id": "jIhUfWXlnrcK",
        "outputId": "f1fc08da-4a47-46fc-d5f6-ce1aa8ab513b",
        "colab": {
          "base_uri": "https://localhost:8080/",
          "height": 137
        }
      },
      "source": [
        "# Challenge 2\n",
        "# Find three western most cities returning both the cities and their longitude\n",
        "#\n",
        "\n",
        "\n",
        "%%sql\n",
        "SELECT city, longitude\n",
        "FROM world_cities \n",
        "Order by longitude ASC limit 3"
      ],
      "execution_count": null,
      "outputs": [
        {
          "output_type": "stream",
          "text": [
            " * sqlite://\n",
            "Done.\n"
          ],
          "name": "stdout"
        },
        {
          "output_type": "execute_result",
          "data": {
            "text/html": [
              "<table>\n",
              "    <tr>\n",
              "        <th>city</th>\n",
              "        <th>longitude</th>\n",
              "    </tr>\n",
              "    <tr>\n",
              "        <td>Lisbon</td>\n",
              "        <td>-9.14</td>\n",
              "    </tr>\n",
              "    <tr>\n",
              "        <td>Galway</td>\n",
              "        <td>-9.05</td>\n",
              "    </tr>\n",
              "    <tr>\n",
              "        <td>Vigo</td>\n",
              "        <td>-8.73</td>\n",
              "    </tr>\n",
              "</table>"
            ],
            "text/plain": [
              "[('Lisbon', -9.14), ('Galway', -9.05), ('Vigo', -8.73)]"
            ]
          },
          "metadata": {
            "tags": []
          },
          "execution_count": 12
        }
      ]
    },
    {
      "cell_type": "code",
      "metadata": {
        "id": "o0ACgdPAnvrF",
        "outputId": "0b7b6cf9-beb9-4e9a-d880-d6eef813b5c2",
        "colab": {
          "base_uri": "https://localhost:8080/",
          "height": 620
        }
      },
      "source": [
        "# Challenge 3\n",
        "# Find cities with temperature is more than 50% higher than the average; \n",
        "# We will return the city, country, and temperature, ordered by descending temperature\n",
        "# Hint: avg(temperature) * 1.5\n",
        "# \n",
        "%%sql\n",
        "Select city, country, temperature\n",
        "from world_cities\n",
        "Where Temperature  > (Select avg(temperature)*1.5 from world_cities)\n",
        "\n",
        "\n",
        "\n",
        "             \n",
        "Order by temperature DESC;\n",
        "\n"
      ],
      "execution_count": null,
      "outputs": [
        {
          "output_type": "stream",
          "text": [
            " * sqlite://\n",
            "Done.\n"
          ],
          "name": "stdout"
        },
        {
          "output_type": "execute_result",
          "data": {
            "text/html": [
              "<table>\n",
              "    <tr>\n",
              "        <th>city</th>\n",
              "        <th>country</th>\n",
              "        <th>temperature</th>\n",
              "    </tr>\n",
              "    <tr>\n",
              "        <td>Adana</td>\n",
              "        <td>Turkey</td>\n",
              "        <td>18.67</td>\n",
              "    </tr>\n",
              "    <tr>\n",
              "        <td>Palermo</td>\n",
              "        <td>Italy</td>\n",
              "        <td>17.9</td>\n",
              "    </tr>\n",
              "    <tr>\n",
              "        <td>Athens</td>\n",
              "        <td>Greece</td>\n",
              "        <td>17.41</td>\n",
              "    </tr>\n",
              "    <tr>\n",
              "        <td>Algeciras</td>\n",
              "        <td>Spain</td>\n",
              "        <td>17.38</td>\n",
              "    </tr>\n",
              "    <tr>\n",
              "        <td>Cartagena</td>\n",
              "        <td>Spain</td>\n",
              "        <td>17.32</td>\n",
              "    </tr>\n",
              "    <tr>\n",
              "        <td>Kalamata</td>\n",
              "        <td>Greece</td>\n",
              "        <td>17.3</td>\n",
              "    </tr>\n",
              "    <tr>\n",
              "        <td>Marbella</td>\n",
              "        <td>Spain</td>\n",
              "        <td>17.19</td>\n",
              "    </tr>\n",
              "    <tr>\n",
              "        <td>Huelva</td>\n",
              "        <td>Spain</td>\n",
              "        <td>17.09</td>\n",
              "    </tr>\n",
              "    <tr>\n",
              "        <td>Patras</td>\n",
              "        <td>Greece</td>\n",
              "        <td>16.9</td>\n",
              "    </tr>\n",
              "    <tr>\n",
              "        <td>Cosenza</td>\n",
              "        <td>Italy</td>\n",
              "        <td>16.6</td>\n",
              "    </tr>\n",
              "    <tr>\n",
              "        <td>Messina</td>\n",
              "        <td>Italy</td>\n",
              "        <td>16.54</td>\n",
              "    </tr>\n",
              "    <tr>\n",
              "        <td>Granada</td>\n",
              "        <td>Spain</td>\n",
              "        <td>16.33</td>\n",
              "    </tr>\n",
              "    <tr>\n",
              "        <td>Valencia</td>\n",
              "        <td>Spain</td>\n",
              "        <td>16.02</td>\n",
              "    </tr>\n",
              "    <tr>\n",
              "        <td>Trikala</td>\n",
              "        <td>Greece</td>\n",
              "        <td>16.0</td>\n",
              "    </tr>\n",
              "    <tr>\n",
              "        <td>Barcelona</td>\n",
              "        <td>Spain</td>\n",
              "        <td>15.78</td>\n",
              "    </tr>\n",
              "    <tr>\n",
              "        <td>Badajoz</td>\n",
              "        <td>Spain</td>\n",
              "        <td>15.61</td>\n",
              "    </tr>\n",
              "    <tr>\n",
              "        <td>Lisbon</td>\n",
              "        <td>Portugal</td>\n",
              "        <td>15.52</td>\n",
              "    </tr>\n",
              "    <tr>\n",
              "        <td>Elbasan</td>\n",
              "        <td>Albania</td>\n",
              "        <td>15.18</td>\n",
              "    </tr>\n",
              "    <tr>\n",
              "        <td>Bari</td>\n",
              "        <td>Italy</td>\n",
              "        <td>15.15</td>\n",
              "    </tr>\n",
              "    <tr>\n",
              "        <td>Pescara</td>\n",
              "        <td>Italy</td>\n",
              "        <td>15.13</td>\n",
              "    </tr>\n",
              "    <tr>\n",
              "        <td>Manisa</td>\n",
              "        <td>Turkey</td>\n",
              "        <td>15.1</td>\n",
              "    </tr>\n",
              "    <tr>\n",
              "        <td>Rome</td>\n",
              "        <td>Italy</td>\n",
              "        <td>15.1</td>\n",
              "    </tr>\n",
              "    <tr>\n",
              "        <td>Catania</td>\n",
              "        <td>Italy</td>\n",
              "        <td>15.04</td>\n",
              "    </tr>\n",
              "    <tr>\n",
              "        <td>Denizli</td>\n",
              "        <td>Turkey</td>\n",
              "        <td>15.02</td>\n",
              "    </tr>\n",
              "    <tr>\n",
              "        <td>Murcia</td>\n",
              "        <td>Spain</td>\n",
              "        <td>15.0</td>\n",
              "    </tr>\n",
              "    <tr>\n",
              "        <td>Marseille</td>\n",
              "        <td>France</td>\n",
              "        <td>14.98</td>\n",
              "    </tr>\n",
              "</table>"
            ],
            "text/plain": [
              "[('Adana', 'Turkey', 18.67),\n",
              " ('Palermo', 'Italy', 17.9),\n",
              " ('Athens', 'Greece', 17.41),\n",
              " ('Algeciras', 'Spain', 17.38),\n",
              " ('Cartagena', 'Spain', 17.32),\n",
              " ('Kalamata', 'Greece', 17.3),\n",
              " ('Marbella', 'Spain', 17.19),\n",
              " ('Huelva', 'Spain', 17.09),\n",
              " ('Patras', 'Greece', 16.9),\n",
              " ('Cosenza', 'Italy', 16.6),\n",
              " ('Messina', 'Italy', 16.54),\n",
              " ('Granada', 'Spain', 16.33),\n",
              " ('Valencia', 'Spain', 16.02),\n",
              " ('Trikala', 'Greece', 16.0),\n",
              " ('Barcelona', 'Spain', 15.78),\n",
              " ('Badajoz', 'Spain', 15.61),\n",
              " ('Lisbon', 'Portugal', 15.52),\n",
              " ('Elbasan', 'Albania', 15.18),\n",
              " ('Bari', 'Italy', 15.15),\n",
              " ('Pescara', 'Italy', 15.13),\n",
              " ('Manisa', 'Turkey', 15.1),\n",
              " ('Rome', 'Italy', 15.1),\n",
              " ('Catania', 'Italy', 15.04),\n",
              " ('Denizli', 'Turkey', 15.02),\n",
              " ('Murcia', 'Spain', 15.0),\n",
              " ('Marseille', 'France', 14.98)]"
            ]
          },
          "metadata": {
            "tags": []
          },
          "execution_count": 9
        }
      ]
    },
    {
      "cell_type": "code",
      "metadata": {
        "id": "fmUqjv6F6lQ0",
        "outputId": "d077a4ea-2bc4-4928-cce8-f9d9014700e6",
        "colab": {
          "base_uri": "https://localhost:8080/",
          "height": 95
        }
      },
      "source": [
        "# Challenge 4\n",
        "# How many cities are not in the EU and without a coastline?\n",
        "# Hint: \"not in\"\n",
        "# \n",
        "\n",
        "%%sql\n",
        "Select count(city)\n",
        "from world_cities\n",
        "Where  country not in (select country from world_countries where EU = 'yes' and coastline = 'yes')"
      ],
      "execution_count": null,
      "outputs": [
        {
          "output_type": "stream",
          "text": [
            " * sqlite://\n",
            "Done.\n"
          ],
          "name": "stdout"
        },
        {
          "output_type": "execute_result",
          "data": {
            "text/html": [
              "<table>\n",
              "    <tr>\n",
              "        <th>count(city)</th>\n",
              "    </tr>\n",
              "    <tr>\n",
              "        <td>77</td>\n",
              "    </tr>\n",
              "</table>"
            ],
            "text/plain": [
              "[(77,)]"
            ]
          },
          "metadata": {
            "tags": []
          },
          "execution_count": 103
        }
      ]
    },
    {
      "cell_type": "code",
      "metadata": {
        "id": "x14dNNSB8X9_",
        "outputId": "faf47f08-0f4f-4d1a-bf27-bb925d74ff01",
        "colab": {
          "base_uri": "https://localhost:8080/",
          "height": 95
        }
      },
      "source": [
        "# Challenge 5\n",
        "# Find the number of countries with no coastline and a city with longitude < 10\n",
        "# \n",
        "%%sql\n",
        "Select count(country)\n",
        "from world_countries\n",
        "Where coastline = 'no' \n",
        "and exists (select * from world_cities where longitude < 10 )\n"
      ],
      "execution_count": null,
      "outputs": [
        {
          "output_type": "stream",
          "text": [
            " * sqlite://\n",
            "Done.\n"
          ],
          "name": "stdout"
        },
        {
          "output_type": "execute_result",
          "data": {
            "text/html": [
              "<table>\n",
              "    <tr>\n",
              "        <th>count(country)</th>\n",
              "    </tr>\n",
              "    <tr>\n",
              "        <td>13</td>\n",
              "    </tr>\n",
              "</table>"
            ],
            "text/plain": [
              "[(13,)]"
            ]
          },
          "metadata": {
            "tags": []
          },
          "execution_count": 92
        }
      ]
    },
    {
      "cell_type": "code",
      "metadata": {
        "id": "Z_AeMRdD82F8",
        "outputId": "55debe1d-935c-40e0-a06b-2dc19a8b513d",
        "colab": {
          "base_uri": "https://localhost:8080/",
          "height": 179
        }
      },
      "source": [
        "# Challenge 6\n",
        "# Find countries in Countries table with no city in Cities table\n",
        "# COMPLETE THE CODE BELOW\n",
        "\n",
        "%%sql\n",
        "SELECT country\n",
        "FROM world_countries\n",
        "WHERE NOT EXISTS (SELECT * FROM world_cities\n",
        "                  where world_cities.country = world_countries.country)"
      ],
      "execution_count": null,
      "outputs": [
        {
          "output_type": "stream",
          "text": [
            " * sqlite://\n",
            "Done.\n"
          ],
          "name": "stdout"
        },
        {
          "output_type": "execute_result",
          "data": {
            "text/html": [
              "<table>\n",
              "    <tr>\n",
              "        <th>country</th>\n",
              "    </tr>\n",
              "    <tr>\n",
              "        <td>Cyprus</td>\n",
              "    </tr>\n",
              "    <tr>\n",
              "        <td>Iceland</td>\n",
              "    </tr>\n",
              "    <tr>\n",
              "        <td>Kosovo</td>\n",
              "    </tr>\n",
              "    <tr>\n",
              "        <td>Liechtenstein</td>\n",
              "    </tr>\n",
              "    <tr>\n",
              "        <td>Luxembourg</td>\n",
              "    </tr>\n",
              "</table>"
            ],
            "text/plain": [
              "[('Cyprus',), ('Iceland',), ('Kosovo',), ('Liechtenstein',), ('Luxembourg',)]"
            ]
          },
          "metadata": {
            "tags": []
          },
          "execution_count": 94
        }
      ]
    },
    {
      "cell_type": "code",
      "metadata": {
        "id": "4dW5nRzi9atc",
        "outputId": "c65851cf-51a1-4fbf-d2c4-17b479c1127e",
        "colab": {
          "base_uri": "https://localhost:8080/",
          "height": 200
        }
      },
      "source": [
        "# Challenge 7\n",
        "# Find all cities in a country whose population is < 2, returning the city and country.\n",
        "# \n",
        "%%sql\n",
        "Select city, country\n",
        "from world_cities\n",
        "WHERE EXISTS(Select * from world_countries\n",
        "             where world_cities.country = world_countries.country and population < 2 )"
      ],
      "execution_count": null,
      "outputs": [
        {
          "output_type": "stream",
          "text": [
            " * sqlite://\n",
            "Done.\n"
          ],
          "name": "stdout"
        },
        {
          "output_type": "execute_result",
          "data": {
            "text/html": [
              "<table>\n",
              "    <tr>\n",
              "        <th>city</th>\n",
              "        <th>country</th>\n",
              "    </tr>\n",
              "    <tr>\n",
              "        <td>Andorra</td>\n",
              "        <td>Andorra</td>\n",
              "    </tr>\n",
              "    <tr>\n",
              "        <td>Daugavpils</td>\n",
              "        <td>Latvia</td>\n",
              "    </tr>\n",
              "    <tr>\n",
              "        <td>Podgorica</td>\n",
              "        <td>Montenegro</td>\n",
              "    </tr>\n",
              "    <tr>\n",
              "        <td>Riga</td>\n",
              "        <td>Latvia</td>\n",
              "    </tr>\n",
              "    <tr>\n",
              "        <td>Tallinn</td>\n",
              "        <td>Estonia</td>\n",
              "    </tr>\n",
              "    <tr>\n",
              "        <td>Tartu</td>\n",
              "        <td>Estonia</td>\n",
              "    </tr>\n",
              "</table>"
            ],
            "text/plain": [
              "[('Andorra', 'Andorra'),\n",
              " ('Daugavpils', 'Latvia'),\n",
              " ('Podgorica', 'Montenegro'),\n",
              " ('Riga', 'Latvia'),\n",
              " ('Tallinn', 'Estonia'),\n",
              " ('Tartu', 'Estonia')]"
            ]
          },
          "metadata": {
            "tags": []
          },
          "execution_count": 100
        }
      ]
    },
    {
      "cell_type": "code",
      "metadata": {
        "id": "rZCO_07d9n9G",
        "outputId": "081fb235-9a78-423d-9982-ff6af3fb6cdd",
        "colab": {
          "base_uri": "https://localhost:8080/",
          "height": 305
        }
      },
      "source": [
        "# Challenge 8\n",
        "# Find all countries with no city having a temperature > 6\n",
        "# \n",
        "%%sql\n",
        "Select country\n",
        "from world_countries\n",
        "where exists ( Select * from world_cities\n",
        "              where world_cities.country = world_countries.country and temperature < 6)"
      ],
      "execution_count": null,
      "outputs": [
        {
          "output_type": "stream",
          "text": [
            " * sqlite://\n",
            "Done.\n"
          ],
          "name": "stdout"
        },
        {
          "output_type": "execute_result",
          "data": {
            "text/html": [
              "<table>\n",
              "    <tr>\n",
              "        <th>country</th>\n",
              "    </tr>\n",
              "    <tr>\n",
              "        <td>Austria</td>\n",
              "    </tr>\n",
              "    <tr>\n",
              "        <td>Belarus</td>\n",
              "    </tr>\n",
              "    <tr>\n",
              "        <td>Estonia</td>\n",
              "    </tr>\n",
              "    <tr>\n",
              "        <td>Finland</td>\n",
              "    </tr>\n",
              "    <tr>\n",
              "        <td>Germany</td>\n",
              "    </tr>\n",
              "    <tr>\n",
              "        <td>Latvia</td>\n",
              "    </tr>\n",
              "    <tr>\n",
              "        <td>Lithuania</td>\n",
              "    </tr>\n",
              "    <tr>\n",
              "        <td>Norway</td>\n",
              "    </tr>\n",
              "    <tr>\n",
              "        <td>Sweden</td>\n",
              "    </tr>\n",
              "    <tr>\n",
              "        <td>Turkey</td>\n",
              "    </tr>\n",
              "    <tr>\n",
              "        <td>Ukraine</td>\n",
              "    </tr>\n",
              "</table>"
            ],
            "text/plain": [
              "[('Austria',),\n",
              " ('Belarus',),\n",
              " ('Estonia',),\n",
              " ('Finland',),\n",
              " ('Germany',),\n",
              " ('Latvia',),\n",
              " ('Lithuania',),\n",
              " ('Norway',),\n",
              " ('Sweden',),\n",
              " ('Turkey',),\n",
              " ('Ukraine',)]"
            ]
          },
          "metadata": {
            "tags": []
          },
          "execution_count": 101
        }
      ]
    },
    {
      "cell_type": "code",
      "metadata": {
        "id": "sGPpwDubzDO-"
      },
      "source": [
        ""
      ],
      "execution_count": null,
      "outputs": []
    }
  ]
}